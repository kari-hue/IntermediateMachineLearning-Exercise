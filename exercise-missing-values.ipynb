{
 "cells": [
  {
   "cell_type": "markdown",
   "id": "6e129f2a",
   "metadata": {
    "papermill": {
     "duration": 0.038519,
     "end_time": "2021-12-30T16:20:12.082148",
     "exception": false,
     "start_time": "2021-12-30T16:20:12.043629",
     "status": "completed"
    },
    "tags": []
   },
   "source": [
    "**This notebook is an exercise in the [Intermediate Machine Learning](https://www.kaggle.com/learn/intermediate-machine-learning) course.  You can reference the tutorial at [this link](https://www.kaggle.com/alexisbcook/missing-values).**\n",
    "\n",
    "---\n"
   ]
  },
  {
   "cell_type": "markdown",
   "id": "62aa5cb0",
   "metadata": {
    "papermill": {
     "duration": 0.03676,
     "end_time": "2021-12-30T16:20:12.157821",
     "exception": false,
     "start_time": "2021-12-30T16:20:12.121061",
     "status": "completed"
    },
    "tags": []
   },
   "source": [
    "Now it's your turn to test your new knowledge of **missing values** handling. You'll probably find it makes a big difference.\n",
    "\n",
    "# Setup\n",
    "\n",
    "The questions will give you feedback on your work. Run the following cell to set up the feedback system."
   ]
  },
  {
   "cell_type": "code",
   "execution_count": 1,
   "id": "8d56e7cd",
   "metadata": {
    "execution": {
     "iopub.execute_input": "2021-12-30T16:20:12.244382Z",
     "iopub.status.busy": "2021-12-30T16:20:12.243212Z",
     "iopub.status.idle": "2021-12-30T16:20:12.298952Z",
     "shell.execute_reply": "2021-12-30T16:20:12.299462Z",
     "shell.execute_reply.started": "2021-12-30T15:27:22.85836Z"
    },
    "papermill": {
     "duration": 0.105394,
     "end_time": "2021-12-30T16:20:12.299782",
     "exception": false,
     "start_time": "2021-12-30T16:20:12.194388",
     "status": "completed"
    },
    "tags": []
   },
   "outputs": [
    {
     "name": "stdout",
     "output_type": "stream",
     "text": [
      "Setup Complete\n"
     ]
    }
   ],
   "source": [
    "# Set up code checking\n",
    "import os\n",
    "if not os.path.exists(\"../input/train.csv\"):\n",
    "    os.symlink(\"../input/home-data-for-ml-course/train.csv\", \"../input/train.csv\")  \n",
    "    os.symlink(\"../input/home-data-for-ml-course/test.csv\", \"../input/test.csv\") \n",
    "from learntools.core import binder\n",
    "binder.bind(globals())\n",
    "from learntools.ml_intermediate.ex2 import *\n",
    "print(\"Setup Complete\")"
   ]
  },
  {
   "cell_type": "markdown",
   "id": "a11f299a",
   "metadata": {
    "papermill": {
     "duration": 0.036474,
     "end_time": "2021-12-30T16:20:12.376482",
     "exception": false,
     "start_time": "2021-12-30T16:20:12.340008",
     "status": "completed"
    },
    "tags": []
   },
   "source": [
    "In this exercise, you will work with data from the [Housing Prices Competition for Kaggle Learn Users](https://www.kaggle.com/c/home-data-for-ml-course). \n",
    "\n",
    "![Ames Housing dataset image](https://i.imgur.com/lTJVG4e.png)\n",
    "\n",
    "Run the next code cell without changes to load the training and validation sets in `X_train`, `X_valid`, `y_train`, and `y_valid`.  The test set is loaded in `X_test`."
   ]
  },
  {
   "cell_type": "code",
   "execution_count": 2,
   "id": "3d716352",
   "metadata": {
    "execution": {
     "iopub.execute_input": "2021-12-30T16:20:12.457873Z",
     "iopub.status.busy": "2021-12-30T16:20:12.457138Z",
     "iopub.status.idle": "2021-12-30T16:20:13.604924Z",
     "shell.execute_reply": "2021-12-30T16:20:13.604318Z",
     "shell.execute_reply.started": "2021-12-30T15:27:22.925035Z"
    },
    "papermill": {
     "duration": 1.191621,
     "end_time": "2021-12-30T16:20:13.605087",
     "exception": false,
     "start_time": "2021-12-30T16:20:12.413466",
     "status": "completed"
    },
    "tags": []
   },
   "outputs": [],
   "source": [
    "import pandas as pd\n",
    "from sklearn.model_selection import train_test_split\n",
    "\n",
    "# Read the data\n",
    "X_full = pd.read_csv('../input/train.csv', index_col='Id')\n",
    "X_test_full = pd.read_csv('../input/test.csv', index_col='Id')\n",
    "\n",
    "# Remove rows with missing target, separate target from predictors\n",
    "X_full.dropna(axis=0, subset=['SalePrice'], inplace=True)\n",
    "y = X_full.SalePrice\n",
    "X_full.drop(['SalePrice'], axis=1, inplace=True)\n",
    "\n",
    "# To keep things simple, we'll use only numerical predictors\n",
    "X = X_full.select_dtypes(exclude=['object'])\n",
    "X_test = X_test_full.select_dtypes(exclude=['object'])\n",
    "\n",
    "# Break off validation set from training data\n",
    "X_train, X_valid, y_train, y_valid = train_test_split(X, y, train_size=0.8, test_size=0.2,\n",
    "                                                      random_state=0)"
   ]
  },
  {
   "cell_type": "markdown",
   "id": "54ced924",
   "metadata": {
    "papermill": {
     "duration": 0.037141,
     "end_time": "2021-12-30T16:20:13.680254",
     "exception": false,
     "start_time": "2021-12-30T16:20:13.643113",
     "status": "completed"
    },
    "tags": []
   },
   "source": [
    "Use the next code cell to print the first five rows of the data."
   ]
  },
  {
   "cell_type": "code",
   "execution_count": 3,
   "id": "740fc1a4",
   "metadata": {
    "execution": {
     "iopub.execute_input": "2021-12-30T16:20:13.757391Z",
     "iopub.status.busy": "2021-12-30T16:20:13.756787Z",
     "iopub.status.idle": "2021-12-30T16:20:13.783127Z",
     "shell.execute_reply": "2021-12-30T16:20:13.783604Z",
     "shell.execute_reply.started": "2021-12-30T15:27:24.084861Z"
    },
    "papermill": {
     "duration": 0.066309,
     "end_time": "2021-12-30T16:20:13.783761",
     "exception": false,
     "start_time": "2021-12-30T16:20:13.717452",
     "status": "completed"
    },
    "tags": []
   },
   "outputs": [
    {
     "data": {
      "text/html": [
       "<div>\n",
       "<style scoped>\n",
       "    .dataframe tbody tr th:only-of-type {\n",
       "        vertical-align: middle;\n",
       "    }\n",
       "\n",
       "    .dataframe tbody tr th {\n",
       "        vertical-align: top;\n",
       "    }\n",
       "\n",
       "    .dataframe thead th {\n",
       "        text-align: right;\n",
       "    }\n",
       "</style>\n",
       "<table border=\"1\" class=\"dataframe\">\n",
       "  <thead>\n",
       "    <tr style=\"text-align: right;\">\n",
       "      <th></th>\n",
       "      <th>MSSubClass</th>\n",
       "      <th>LotFrontage</th>\n",
       "      <th>LotArea</th>\n",
       "      <th>OverallQual</th>\n",
       "      <th>OverallCond</th>\n",
       "      <th>YearBuilt</th>\n",
       "      <th>YearRemodAdd</th>\n",
       "      <th>MasVnrArea</th>\n",
       "      <th>BsmtFinSF1</th>\n",
       "      <th>BsmtFinSF2</th>\n",
       "      <th>...</th>\n",
       "      <th>GarageArea</th>\n",
       "      <th>WoodDeckSF</th>\n",
       "      <th>OpenPorchSF</th>\n",
       "      <th>EnclosedPorch</th>\n",
       "      <th>3SsnPorch</th>\n",
       "      <th>ScreenPorch</th>\n",
       "      <th>PoolArea</th>\n",
       "      <th>MiscVal</th>\n",
       "      <th>MoSold</th>\n",
       "      <th>YrSold</th>\n",
       "    </tr>\n",
       "    <tr>\n",
       "      <th>Id</th>\n",
       "      <th></th>\n",
       "      <th></th>\n",
       "      <th></th>\n",
       "      <th></th>\n",
       "      <th></th>\n",
       "      <th></th>\n",
       "      <th></th>\n",
       "      <th></th>\n",
       "      <th></th>\n",
       "      <th></th>\n",
       "      <th></th>\n",
       "      <th></th>\n",
       "      <th></th>\n",
       "      <th></th>\n",
       "      <th></th>\n",
       "      <th></th>\n",
       "      <th></th>\n",
       "      <th></th>\n",
       "      <th></th>\n",
       "      <th></th>\n",
       "      <th></th>\n",
       "    </tr>\n",
       "  </thead>\n",
       "  <tbody>\n",
       "    <tr>\n",
       "      <th>619</th>\n",
       "      <td>20</td>\n",
       "      <td>90.0</td>\n",
       "      <td>11694</td>\n",
       "      <td>9</td>\n",
       "      <td>5</td>\n",
       "      <td>2007</td>\n",
       "      <td>2007</td>\n",
       "      <td>452.0</td>\n",
       "      <td>48</td>\n",
       "      <td>0</td>\n",
       "      <td>...</td>\n",
       "      <td>774</td>\n",
       "      <td>0</td>\n",
       "      <td>108</td>\n",
       "      <td>0</td>\n",
       "      <td>0</td>\n",
       "      <td>260</td>\n",
       "      <td>0</td>\n",
       "      <td>0</td>\n",
       "      <td>7</td>\n",
       "      <td>2007</td>\n",
       "    </tr>\n",
       "    <tr>\n",
       "      <th>871</th>\n",
       "      <td>20</td>\n",
       "      <td>60.0</td>\n",
       "      <td>6600</td>\n",
       "      <td>5</td>\n",
       "      <td>5</td>\n",
       "      <td>1962</td>\n",
       "      <td>1962</td>\n",
       "      <td>0.0</td>\n",
       "      <td>0</td>\n",
       "      <td>0</td>\n",
       "      <td>...</td>\n",
       "      <td>308</td>\n",
       "      <td>0</td>\n",
       "      <td>0</td>\n",
       "      <td>0</td>\n",
       "      <td>0</td>\n",
       "      <td>0</td>\n",
       "      <td>0</td>\n",
       "      <td>0</td>\n",
       "      <td>8</td>\n",
       "      <td>2009</td>\n",
       "    </tr>\n",
       "    <tr>\n",
       "      <th>93</th>\n",
       "      <td>30</td>\n",
       "      <td>80.0</td>\n",
       "      <td>13360</td>\n",
       "      <td>5</td>\n",
       "      <td>7</td>\n",
       "      <td>1921</td>\n",
       "      <td>2006</td>\n",
       "      <td>0.0</td>\n",
       "      <td>713</td>\n",
       "      <td>0</td>\n",
       "      <td>...</td>\n",
       "      <td>432</td>\n",
       "      <td>0</td>\n",
       "      <td>0</td>\n",
       "      <td>44</td>\n",
       "      <td>0</td>\n",
       "      <td>0</td>\n",
       "      <td>0</td>\n",
       "      <td>0</td>\n",
       "      <td>8</td>\n",
       "      <td>2009</td>\n",
       "    </tr>\n",
       "    <tr>\n",
       "      <th>818</th>\n",
       "      <td>20</td>\n",
       "      <td>NaN</td>\n",
       "      <td>13265</td>\n",
       "      <td>8</td>\n",
       "      <td>5</td>\n",
       "      <td>2002</td>\n",
       "      <td>2002</td>\n",
       "      <td>148.0</td>\n",
       "      <td>1218</td>\n",
       "      <td>0</td>\n",
       "      <td>...</td>\n",
       "      <td>857</td>\n",
       "      <td>150</td>\n",
       "      <td>59</td>\n",
       "      <td>0</td>\n",
       "      <td>0</td>\n",
       "      <td>0</td>\n",
       "      <td>0</td>\n",
       "      <td>0</td>\n",
       "      <td>7</td>\n",
       "      <td>2008</td>\n",
       "    </tr>\n",
       "    <tr>\n",
       "      <th>303</th>\n",
       "      <td>20</td>\n",
       "      <td>118.0</td>\n",
       "      <td>13704</td>\n",
       "      <td>7</td>\n",
       "      <td>5</td>\n",
       "      <td>2001</td>\n",
       "      <td>2002</td>\n",
       "      <td>150.0</td>\n",
       "      <td>0</td>\n",
       "      <td>0</td>\n",
       "      <td>...</td>\n",
       "      <td>843</td>\n",
       "      <td>468</td>\n",
       "      <td>81</td>\n",
       "      <td>0</td>\n",
       "      <td>0</td>\n",
       "      <td>0</td>\n",
       "      <td>0</td>\n",
       "      <td>0</td>\n",
       "      <td>1</td>\n",
       "      <td>2006</td>\n",
       "    </tr>\n",
       "  </tbody>\n",
       "</table>\n",
       "<p>5 rows × 36 columns</p>\n",
       "</div>"
      ],
      "text/plain": [
       "     MSSubClass  LotFrontage  LotArea  OverallQual  OverallCond  YearBuilt  \\\n",
       "Id                                                                           \n",
       "619          20         90.0    11694            9            5       2007   \n",
       "871          20         60.0     6600            5            5       1962   \n",
       "93           30         80.0    13360            5            7       1921   \n",
       "818          20          NaN    13265            8            5       2002   \n",
       "303          20        118.0    13704            7            5       2001   \n",
       "\n",
       "     YearRemodAdd  MasVnrArea  BsmtFinSF1  BsmtFinSF2  ...  GarageArea  \\\n",
       "Id                                                     ...               \n",
       "619          2007       452.0          48           0  ...         774   \n",
       "871          1962         0.0           0           0  ...         308   \n",
       "93           2006         0.0         713           0  ...         432   \n",
       "818          2002       148.0        1218           0  ...         857   \n",
       "303          2002       150.0           0           0  ...         843   \n",
       "\n",
       "     WoodDeckSF  OpenPorchSF  EnclosedPorch  3SsnPorch  ScreenPorch  PoolArea  \\\n",
       "Id                                                                              \n",
       "619           0          108              0          0          260         0   \n",
       "871           0            0              0          0            0         0   \n",
       "93            0            0             44          0            0         0   \n",
       "818         150           59              0          0            0         0   \n",
       "303         468           81              0          0            0         0   \n",
       "\n",
       "     MiscVal  MoSold  YrSold  \n",
       "Id                            \n",
       "619        0       7    2007  \n",
       "871        0       8    2009  \n",
       "93         0       8    2009  \n",
       "818        0       7    2008  \n",
       "303        0       1    2006  \n",
       "\n",
       "[5 rows x 36 columns]"
      ]
     },
     "execution_count": 3,
     "metadata": {},
     "output_type": "execute_result"
    }
   ],
   "source": [
    "X_train.head()"
   ]
  },
  {
   "cell_type": "code",
   "execution_count": 4,
   "id": "dd95fc7c",
   "metadata": {
    "execution": {
     "iopub.execute_input": "2021-12-30T16:20:13.866521Z",
     "iopub.status.busy": "2021-12-30T16:20:13.864043Z",
     "iopub.status.idle": "2021-12-30T16:20:13.870793Z",
     "shell.execute_reply": "2021-12-30T16:20:13.871349Z",
     "shell.execute_reply.started": "2021-12-30T15:27:24.11471Z"
    },
    "papermill": {
     "duration": 0.048416,
     "end_time": "2021-12-30T16:20:13.871522",
     "exception": false,
     "start_time": "2021-12-30T16:20:13.823106",
     "status": "completed"
    },
    "tags": []
   },
   "outputs": [
    {
     "data": {
      "text/plain": [
       "MSSubClass         int64\n",
       "LotFrontage      float64\n",
       "LotArea            int64\n",
       "OverallQual        int64\n",
       "OverallCond        int64\n",
       "YearBuilt          int64\n",
       "YearRemodAdd       int64\n",
       "MasVnrArea       float64\n",
       "BsmtFinSF1         int64\n",
       "BsmtFinSF2         int64\n",
       "BsmtUnfSF          int64\n",
       "TotalBsmtSF        int64\n",
       "1stFlrSF           int64\n",
       "2ndFlrSF           int64\n",
       "LowQualFinSF       int64\n",
       "GrLivArea          int64\n",
       "BsmtFullBath       int64\n",
       "BsmtHalfBath       int64\n",
       "FullBath           int64\n",
       "HalfBath           int64\n",
       "BedroomAbvGr       int64\n",
       "KitchenAbvGr       int64\n",
       "TotRmsAbvGrd       int64\n",
       "Fireplaces         int64\n",
       "GarageYrBlt      float64\n",
       "GarageCars         int64\n",
       "GarageArea         int64\n",
       "WoodDeckSF         int64\n",
       "OpenPorchSF        int64\n",
       "EnclosedPorch      int64\n",
       "3SsnPorch          int64\n",
       "ScreenPorch        int64\n",
       "PoolArea           int64\n",
       "MiscVal            int64\n",
       "MoSold             int64\n",
       "YrSold             int64\n",
       "dtype: object"
      ]
     },
     "execution_count": 4,
     "metadata": {},
     "output_type": "execute_result"
    }
   ],
   "source": [
    "X_train.dtypes"
   ]
  },
  {
   "cell_type": "code",
   "execution_count": 5,
   "id": "5e6ff58f",
   "metadata": {
    "execution": {
     "iopub.execute_input": "2021-12-30T16:20:13.951522Z",
     "iopub.status.busy": "2021-12-30T16:20:13.950915Z",
     "iopub.status.idle": "2021-12-30T16:20:13.957861Z",
     "shell.execute_reply": "2021-12-30T16:20:13.958416Z",
     "shell.execute_reply.started": "2021-12-30T15:27:24.124389Z"
    },
    "papermill": {
     "duration": 0.048379,
     "end_time": "2021-12-30T16:20:13.958591",
     "exception": false,
     "start_time": "2021-12-30T16:20:13.910212",
     "status": "completed"
    },
    "tags": []
   },
   "outputs": [
    {
     "data": {
      "text/plain": [
       "MSSubClass         0\n",
       "LotFrontage      212\n",
       "LotArea            0\n",
       "OverallQual        0\n",
       "OverallCond        0\n",
       "YearBuilt          0\n",
       "YearRemodAdd       0\n",
       "MasVnrArea         6\n",
       "BsmtFinSF1         0\n",
       "BsmtFinSF2         0\n",
       "BsmtUnfSF          0\n",
       "TotalBsmtSF        0\n",
       "1stFlrSF           0\n",
       "2ndFlrSF           0\n",
       "LowQualFinSF       0\n",
       "GrLivArea          0\n",
       "BsmtFullBath       0\n",
       "BsmtHalfBath       0\n",
       "FullBath           0\n",
       "HalfBath           0\n",
       "BedroomAbvGr       0\n",
       "KitchenAbvGr       0\n",
       "TotRmsAbvGrd       0\n",
       "Fireplaces         0\n",
       "GarageYrBlt       58\n",
       "GarageCars         0\n",
       "GarageArea         0\n",
       "WoodDeckSF         0\n",
       "OpenPorchSF        0\n",
       "EnclosedPorch      0\n",
       "3SsnPorch          0\n",
       "ScreenPorch        0\n",
       "PoolArea           0\n",
       "MiscVal            0\n",
       "MoSold             0\n",
       "YrSold             0\n",
       "dtype: int64"
      ]
     },
     "execution_count": 5,
     "metadata": {},
     "output_type": "execute_result"
    }
   ],
   "source": [
    "# Observing the missing values\n",
    "\n",
    "X_train.isnull().sum()"
   ]
  },
  {
   "cell_type": "markdown",
   "id": "856a7a59",
   "metadata": {
    "papermill": {
     "duration": 0.039232,
     "end_time": "2021-12-30T16:20:14.036731",
     "exception": false,
     "start_time": "2021-12-30T16:20:13.997499",
     "status": "completed"
    },
    "tags": []
   },
   "source": [
    "We can see that we have missing values in out three features i.e. LotFrontage(212 missing values),MasVnrArea(6 missing value) and GarageYrBlt(58 missing values). "
   ]
  },
  {
   "cell_type": "markdown",
   "id": "5c445485",
   "metadata": {
    "papermill": {
     "duration": 0.038818,
     "end_time": "2021-12-30T16:20:14.114084",
     "exception": false,
     "start_time": "2021-12-30T16:20:14.075266",
     "status": "completed"
    },
    "tags": []
   },
   "source": [
    "You can already see a few missing values in the first several rows.  In the next step, you'll obtain a more comprehensive understanding of the missing values in the dataset.\n",
    "\n",
    "# Step 1: Preliminary investigation\n",
    "\n",
    "Run the code cell below without changes."
   ]
  },
  {
   "cell_type": "code",
   "execution_count": 6,
   "id": "c52b72f0",
   "metadata": {
    "execution": {
     "iopub.execute_input": "2021-12-30T16:20:14.195751Z",
     "iopub.status.busy": "2021-12-30T16:20:14.195144Z",
     "iopub.status.idle": "2021-12-30T16:20:14.203294Z",
     "shell.execute_reply": "2021-12-30T16:20:14.203991Z",
     "shell.execute_reply.started": "2021-12-30T15:27:24.141054Z"
    },
    "papermill": {
     "duration": 0.050916,
     "end_time": "2021-12-30T16:20:14.204220",
     "exception": false,
     "start_time": "2021-12-30T16:20:14.153304",
     "status": "completed"
    },
    "tags": []
   },
   "outputs": [
    {
     "name": "stdout",
     "output_type": "stream",
     "text": [
      "(1168, 36)\n",
      "LotFrontage    212\n",
      "MasVnrArea       6\n",
      "GarageYrBlt     58\n",
      "dtype: int64\n"
     ]
    }
   ],
   "source": [
    "# Shape of training data (num_rows, num_columns)\n",
    "print(X_train.shape)\n",
    "\n",
    "# Number of missing values in each column of training data\n",
    "missing_val_count_by_column = (X_train.isnull().sum())\n",
    "print(missing_val_count_by_column[missing_val_count_by_column > 0])"
   ]
  },
  {
   "cell_type": "markdown",
   "id": "e5982d9d",
   "metadata": {
    "papermill": {
     "duration": 0.038824,
     "end_time": "2021-12-30T16:20:14.283853",
     "exception": false,
     "start_time": "2021-12-30T16:20:14.245029",
     "status": "completed"
    },
    "tags": []
   },
   "source": [
    "### Part A\n",
    "\n",
    "Use the above output to answer the questions below."
   ]
  },
  {
   "cell_type": "code",
   "execution_count": 7,
   "id": "bee4cd09",
   "metadata": {
    "execution": {
     "iopub.execute_input": "2021-12-30T16:20:14.366939Z",
     "iopub.status.busy": "2021-12-30T16:20:14.366281Z",
     "iopub.status.idle": "2021-12-30T16:20:14.371656Z",
     "shell.execute_reply": "2021-12-30T16:20:14.371141Z",
     "shell.execute_reply.started": "2021-12-30T15:27:24.158779Z"
    },
    "papermill": {
     "duration": 0.048879,
     "end_time": "2021-12-30T16:20:14.371782",
     "exception": false,
     "start_time": "2021-12-30T16:20:14.322903",
     "status": "completed"
    },
    "tags": []
   },
   "outputs": [
    {
     "data": {
      "application/javascript": [
       "parent.postMessage({\"jupyterEvent\": \"custom.exercise_interaction\", \"data\": {\"outcomeType\": 1, \"valueTowardsCompletion\": 1.0, \"interactionType\": 1, \"questionType\": 1, \"questionId\": \"1.1_InvestigateEquality\", \"learnToolsVersion\": \"0.3.4\", \"failureMessage\": \"\", \"exceptionClass\": \"\", \"trace\": \"\"}}, \"*\")"
      ],
      "text/plain": [
       "<IPython.core.display.Javascript object>"
      ]
     },
     "metadata": {},
     "output_type": "display_data"
    },
    {
     "data": {
      "text/markdown": [
       "<span style=\"color:#33cc33\">Correct</span>"
      ],
      "text/plain": [
       "Correct"
      ]
     },
     "metadata": {},
     "output_type": "display_data"
    }
   ],
   "source": [
    "# Fill in the line below: How many rows are in the training data?\n",
    "num_rows = 1168\n",
    "\n",
    "# Fill in the line below: How many columns in the training data\n",
    "# have missing values?\n",
    "num_cols_with_missing = 3\n",
    "\n",
    "# Fill in the line below: How many missing entries are contained in \n",
    "# all of the training data?\n",
    "tot_missing = 276\n",
    "\n",
    "# Check your answers\n",
    "step_1.a.check()"
   ]
  },
  {
   "cell_type": "code",
   "execution_count": 8,
   "id": "d68ca000",
   "metadata": {
    "execution": {
     "iopub.execute_input": "2021-12-30T16:20:14.455947Z",
     "iopub.status.busy": "2021-12-30T16:20:14.455354Z",
     "iopub.status.idle": "2021-12-30T16:20:14.457947Z",
     "shell.execute_reply": "2021-12-30T16:20:14.457486Z",
     "shell.execute_reply.started": "2021-12-30T15:27:24.176918Z"
    },
    "papermill": {
     "duration": 0.046497,
     "end_time": "2021-12-30T16:20:14.458073",
     "exception": false,
     "start_time": "2021-12-30T16:20:14.411576",
     "status": "completed"
    },
    "tags": []
   },
   "outputs": [],
   "source": [
    "# Lines below will give you a hint or solution code\n",
    "#step_1.a.hint()\n",
    "#step_1.a.solution()"
   ]
  },
  {
   "cell_type": "markdown",
   "id": "00809570",
   "metadata": {
    "papermill": {
     "duration": 0.039085,
     "end_time": "2021-12-30T16:20:14.537259",
     "exception": false,
     "start_time": "2021-12-30T16:20:14.498174",
     "status": "completed"
    },
    "tags": []
   },
   "source": [
    "### Part B\n",
    "Considering your answers above, what do you think is likely the best approach to dealing with the missing values?"
   ]
  },
  {
   "cell_type": "markdown",
   "id": "d2095638",
   "metadata": {
    "papermill": {
     "duration": 0.039558,
     "end_time": "2021-12-30T16:20:14.616805",
     "exception": false,
     "start_time": "2021-12-30T16:20:14.577247",
     "status": "completed"
    },
    "tags": []
   },
   "source": [
    "<b> Answer: </b> So looking at the above observation we have 276 null values contained by 3 columns. In my opinion we can easily manage those missing values without dropping the columns(as dropping the columns can aid to data loss) by using the imputation process."
   ]
  },
  {
   "cell_type": "code",
   "execution_count": 9,
   "id": "16922436",
   "metadata": {
    "execution": {
     "iopub.execute_input": "2021-12-30T16:20:14.698701Z",
     "iopub.status.busy": "2021-12-30T16:20:14.698121Z",
     "iopub.status.idle": "2021-12-30T16:20:14.704299Z",
     "shell.execute_reply": "2021-12-30T16:20:14.704880Z",
     "shell.execute_reply.started": "2021-12-30T15:27:24.184362Z"
    },
    "papermill": {
     "duration": 0.048251,
     "end_time": "2021-12-30T16:20:14.705028",
     "exception": false,
     "start_time": "2021-12-30T16:20:14.656777",
     "status": "completed"
    },
    "tags": []
   },
   "outputs": [
    {
     "data": {
      "application/javascript": [
       "parent.postMessage({\"jupyterEvent\": \"custom.exercise_interaction\", \"data\": {\"outcomeType\": 1, \"valueTowardsCompletion\": 1.0, \"interactionType\": 1, \"questionType\": 4, \"questionId\": \"1.2_InvestigateThought\", \"learnToolsVersion\": \"0.3.4\", \"failureMessage\": \"\", \"exceptionClass\": \"\", \"trace\": \"\"}}, \"*\")"
      ],
      "text/plain": [
       "<IPython.core.display.Javascript object>"
      ]
     },
     "metadata": {},
     "output_type": "display_data"
    },
    {
     "data": {
      "text/markdown": [
       "<span style=\"color:#33cc33\">Correct:</span> \n",
       "\n",
       "Since there are relatively few missing entries in the data (the column with the greatest percentage of missing values is missing less than 20% of its entries), we can expect that dropping columns is unlikely to yield good results.  This is because we'd be throwing away a lot of valuable data, and so imputation will likely perform better."
      ],
      "text/plain": [
       "Correct: \n",
       "\n",
       "Since there are relatively few missing entries in the data (the column with the greatest percentage of missing values is missing less than 20% of its entries), we can expect that dropping columns is unlikely to yield good results.  This is because we'd be throwing away a lot of valuable data, and so imputation will likely perform better."
      ]
     },
     "metadata": {},
     "output_type": "display_data"
    }
   ],
   "source": [
    "# Check your answer (Run this code cell to receive credit!)\n",
    "step_1.b.check()"
   ]
  },
  {
   "cell_type": "code",
   "execution_count": 10,
   "id": "36d7f9b8",
   "metadata": {
    "execution": {
     "iopub.execute_input": "2021-12-30T16:20:14.790817Z",
     "iopub.status.busy": "2021-12-30T16:20:14.789949Z",
     "iopub.status.idle": "2021-12-30T16:20:14.792615Z",
     "shell.execute_reply": "2021-12-30T16:20:14.793116Z",
     "shell.execute_reply.started": "2021-12-30T15:27:24.202272Z"
    },
    "papermill": {
     "duration": 0.046827,
     "end_time": "2021-12-30T16:20:14.793277",
     "exception": false,
     "start_time": "2021-12-30T16:20:14.746450",
     "status": "completed"
    },
    "tags": []
   },
   "outputs": [],
   "source": [
    "#step_1.b.hint()"
   ]
  },
  {
   "cell_type": "markdown",
   "id": "f423324a",
   "metadata": {
    "papermill": {
     "duration": 0.040884,
     "end_time": "2021-12-30T16:20:14.875039",
     "exception": false,
     "start_time": "2021-12-30T16:20:14.834155",
     "status": "completed"
    },
    "tags": []
   },
   "source": [
    "To compare different approaches to dealing with missing values, you'll use the same `score_dataset()` function from the tutorial.  This function reports the [mean absolute error](https://en.wikipedia.org/wiki/Mean_absolute_error) (MAE) from a random forest model."
   ]
  },
  {
   "cell_type": "code",
   "execution_count": 11,
   "id": "7d17d538",
   "metadata": {
    "execution": {
     "iopub.execute_input": "2021-12-30T16:20:14.959914Z",
     "iopub.status.busy": "2021-12-30T16:20:14.959249Z",
     "iopub.status.idle": "2021-12-30T16:20:15.147721Z",
     "shell.execute_reply": "2021-12-30T16:20:15.148210Z",
     "shell.execute_reply.started": "2021-12-30T15:27:24.215188Z"
    },
    "papermill": {
     "duration": 0.232468,
     "end_time": "2021-12-30T16:20:15.148393",
     "exception": false,
     "start_time": "2021-12-30T16:20:14.915925",
     "status": "completed"
    },
    "tags": []
   },
   "outputs": [],
   "source": [
    "from sklearn.ensemble import RandomForestRegressor\n",
    "from sklearn.metrics import mean_absolute_error\n",
    "\n",
    "# Function for comparing different approaches\n",
    "def score_dataset(X_train, X_valid, y_train, y_valid):\n",
    "    model = RandomForestRegressor(n_estimators=100, random_state=0)\n",
    "    model.fit(X_train, y_train)\n",
    "    preds = model.predict(X_valid)\n",
    "    return mean_absolute_error(y_valid, preds)"
   ]
  },
  {
   "cell_type": "markdown",
   "id": "520b90b9",
   "metadata": {
    "papermill": {
     "duration": 0.03999,
     "end_time": "2021-12-30T16:20:15.229619",
     "exception": false,
     "start_time": "2021-12-30T16:20:15.189629",
     "status": "completed"
    },
    "tags": []
   },
   "source": [
    "# Step 2: Drop columns with missing values\n",
    "\n",
    "In this step, you'll preprocess the data in `X_train` and `X_valid` to remove columns with missing values.  Set the preprocessed DataFrames to `reduced_X_train` and `reduced_X_valid`, respectively.  "
   ]
  },
  {
   "cell_type": "code",
   "execution_count": 12,
   "id": "41df8958",
   "metadata": {
    "execution": {
     "iopub.execute_input": "2021-12-30T16:20:15.338130Z",
     "iopub.status.busy": "2021-12-30T16:20:15.336655Z",
     "iopub.status.idle": "2021-12-30T16:20:15.342944Z",
     "shell.execute_reply": "2021-12-30T16:20:15.343355Z",
     "shell.execute_reply.started": "2021-12-30T15:27:24.42577Z"
    },
    "papermill": {
     "duration": 0.072929,
     "end_time": "2021-12-30T16:20:15.343550",
     "exception": false,
     "start_time": "2021-12-30T16:20:15.270621",
     "status": "completed"
    },
    "tags": []
   },
   "outputs": [
    {
     "data": {
      "application/javascript": [
       "parent.postMessage({\"jupyterEvent\": \"custom.exercise_interaction\", \"data\": {\"outcomeType\": 1, \"valueTowardsCompletion\": 1.0, \"interactionType\": 1, \"questionType\": 2, \"questionId\": \"2_DropMissing\", \"learnToolsVersion\": \"0.3.4\", \"failureMessage\": \"\", \"exceptionClass\": \"\", \"trace\": \"\"}}, \"*\")"
      ],
      "text/plain": [
       "<IPython.core.display.Javascript object>"
      ]
     },
     "metadata": {},
     "output_type": "display_data"
    },
    {
     "data": {
      "text/markdown": [
       "<span style=\"color:#33cc33\">Correct</span>"
      ],
      "text/plain": [
       "Correct"
      ]
     },
     "metadata": {},
     "output_type": "display_data"
    }
   ],
   "source": [
    "# Fill in the line below: get names of columns with missing values\n",
    "column_with_missing_value = [col for col in X_train.columns if X_train[col].isnull().any()]\n",
    "\n",
    "# Fill in the lines below: drop columns in training and validation data\n",
    "reduced_X_train = X_train.drop(column_with_missing_value,axis = 1)\n",
    "reduced_X_valid = X_valid.drop(column_with_missing_value,axis = 1)\n",
    "\n",
    "# Check your answers\n",
    "step_2.check()"
   ]
  },
  {
   "cell_type": "code",
   "execution_count": 13,
   "id": "bf228129",
   "metadata": {
    "execution": {
     "iopub.execute_input": "2021-12-30T16:20:15.433217Z",
     "iopub.status.busy": "2021-12-30T16:20:15.432544Z",
     "iopub.status.idle": "2021-12-30T16:20:15.436999Z",
     "shell.execute_reply": "2021-12-30T16:20:15.437439Z",
     "shell.execute_reply.started": "2021-12-30T15:27:24.456606Z"
    },
    "papermill": {
     "duration": 0.051997,
     "end_time": "2021-12-30T16:20:15.437612",
     "exception": false,
     "start_time": "2021-12-30T16:20:15.385615",
     "status": "completed"
    },
    "tags": []
   },
   "outputs": [
    {
     "data": {
      "text/plain": [
       "(1168, 33)"
      ]
     },
     "execution_count": 13,
     "metadata": {},
     "output_type": "execute_result"
    }
   ],
   "source": [
    "reduced_X_train.shape"
   ]
  },
  {
   "cell_type": "code",
   "execution_count": 14,
   "id": "ce57dc9e",
   "metadata": {
    "execution": {
     "iopub.execute_input": "2021-12-30T16:20:15.525308Z",
     "iopub.status.busy": "2021-12-30T16:20:15.524735Z",
     "iopub.status.idle": "2021-12-30T16:20:15.531316Z",
     "shell.execute_reply": "2021-12-30T16:20:15.531861Z",
     "shell.execute_reply.started": "2021-12-30T15:27:24.462929Z"
    },
    "papermill": {
     "duration": 0.052325,
     "end_time": "2021-12-30T16:20:15.532019",
     "exception": false,
     "start_time": "2021-12-30T16:20:15.479694",
     "status": "completed"
    },
    "tags": []
   },
   "outputs": [
    {
     "data": {
      "text/plain": [
       "MSSubClass       0\n",
       "LotArea          0\n",
       "OverallQual      0\n",
       "OverallCond      0\n",
       "YearBuilt        0\n",
       "YearRemodAdd     0\n",
       "BsmtFinSF1       0\n",
       "BsmtFinSF2       0\n",
       "BsmtUnfSF        0\n",
       "TotalBsmtSF      0\n",
       "1stFlrSF         0\n",
       "2ndFlrSF         0\n",
       "LowQualFinSF     0\n",
       "GrLivArea        0\n",
       "BsmtFullBath     0\n",
       "BsmtHalfBath     0\n",
       "FullBath         0\n",
       "HalfBath         0\n",
       "BedroomAbvGr     0\n",
       "KitchenAbvGr     0\n",
       "TotRmsAbvGrd     0\n",
       "Fireplaces       0\n",
       "GarageCars       0\n",
       "GarageArea       0\n",
       "WoodDeckSF       0\n",
       "OpenPorchSF      0\n",
       "EnclosedPorch    0\n",
       "3SsnPorch        0\n",
       "ScreenPorch      0\n",
       "PoolArea         0\n",
       "MiscVal          0\n",
       "MoSold           0\n",
       "YrSold           0\n",
       "dtype: int64"
      ]
     },
     "execution_count": 14,
     "metadata": {},
     "output_type": "execute_result"
    }
   ],
   "source": [
    "reduced_X_train.isnull().sum()"
   ]
  },
  {
   "cell_type": "code",
   "execution_count": 15,
   "id": "e52cfc6c",
   "metadata": {
    "execution": {
     "iopub.execute_input": "2021-12-30T16:20:15.624256Z",
     "iopub.status.busy": "2021-12-30T16:20:15.623644Z",
     "iopub.status.idle": "2021-12-30T16:20:15.625998Z",
     "shell.execute_reply": "2021-12-30T16:20:15.626439Z",
     "shell.execute_reply.started": "2021-12-30T15:27:24.479534Z"
    },
    "papermill": {
     "duration": 0.052251,
     "end_time": "2021-12-30T16:20:15.626644",
     "exception": false,
     "start_time": "2021-12-30T16:20:15.574393",
     "status": "completed"
    },
    "tags": []
   },
   "outputs": [
    {
     "data": {
      "text/plain": [
       "MSSubClass       0\n",
       "LotArea          0\n",
       "OverallQual      0\n",
       "OverallCond      0\n",
       "YearBuilt        0\n",
       "YearRemodAdd     0\n",
       "BsmtFinSF1       0\n",
       "BsmtFinSF2       0\n",
       "BsmtUnfSF        0\n",
       "TotalBsmtSF      0\n",
       "1stFlrSF         0\n",
       "2ndFlrSF         0\n",
       "LowQualFinSF     0\n",
       "GrLivArea        0\n",
       "BsmtFullBath     0\n",
       "BsmtHalfBath     0\n",
       "FullBath         0\n",
       "HalfBath         0\n",
       "BedroomAbvGr     0\n",
       "KitchenAbvGr     0\n",
       "TotRmsAbvGrd     0\n",
       "Fireplaces       0\n",
       "GarageCars       0\n",
       "GarageArea       0\n",
       "WoodDeckSF       0\n",
       "OpenPorchSF      0\n",
       "EnclosedPorch    0\n",
       "3SsnPorch        0\n",
       "ScreenPorch      0\n",
       "PoolArea         0\n",
       "MiscVal          0\n",
       "MoSold           0\n",
       "YrSold           0\n",
       "dtype: int64"
      ]
     },
     "execution_count": 15,
     "metadata": {},
     "output_type": "execute_result"
    }
   ],
   "source": [
    "reduced_X_valid.isnull().sum()"
   ]
  },
  {
   "cell_type": "code",
   "execution_count": 16,
   "id": "3c4b8390",
   "metadata": {
    "execution": {
     "iopub.execute_input": "2021-12-30T16:20:15.714796Z",
     "iopub.status.busy": "2021-12-30T16:20:15.714219Z",
     "iopub.status.idle": "2021-12-30T16:20:15.716902Z",
     "shell.execute_reply": "2021-12-30T16:20:15.716381Z",
     "shell.execute_reply.started": "2021-12-30T15:27:24.487616Z"
    },
    "papermill": {
     "duration": 0.048021,
     "end_time": "2021-12-30T16:20:15.717031",
     "exception": false,
     "start_time": "2021-12-30T16:20:15.669010",
     "status": "completed"
    },
    "tags": []
   },
   "outputs": [],
   "source": [
    "# Lines below will give you a hint or solution code\n",
    "#step_2.hint()\n",
    "#step_2.solution()"
   ]
  },
  {
   "cell_type": "markdown",
   "id": "49ef749c",
   "metadata": {
    "papermill": {
     "duration": 0.041976,
     "end_time": "2021-12-30T16:20:15.802079",
     "exception": false,
     "start_time": "2021-12-30T16:20:15.760103",
     "status": "completed"
    },
    "tags": []
   },
   "source": [
    "Run the next code cell without changes to obtain the MAE for this approach."
   ]
  },
  {
   "cell_type": "code",
   "execution_count": 17,
   "id": "6c0f3576",
   "metadata": {
    "execution": {
     "iopub.execute_input": "2021-12-30T16:20:15.911451Z",
     "iopub.status.busy": "2021-12-30T16:20:15.895773Z",
     "iopub.status.idle": "2021-12-30T16:20:17.073077Z",
     "shell.execute_reply": "2021-12-30T16:20:17.073588Z",
     "shell.execute_reply.started": "2021-12-30T15:27:24.494837Z"
    },
    "papermill": {
     "duration": 1.228394,
     "end_time": "2021-12-30T16:20:17.073756",
     "exception": false,
     "start_time": "2021-12-30T16:20:15.845362",
     "status": "completed"
    },
    "tags": []
   },
   "outputs": [
    {
     "name": "stdout",
     "output_type": "stream",
     "text": [
      "MAE (Drop columns with missing values):\n",
      "17837.82570776256\n"
     ]
    }
   ],
   "source": [
    "print(\"MAE (Drop columns with missing values):\")\n",
    "print(score_dataset(reduced_X_train, reduced_X_valid, y_train, y_valid))"
   ]
  },
  {
   "cell_type": "markdown",
   "id": "cc327df5",
   "metadata": {
    "papermill": {
     "duration": 0.043459,
     "end_time": "2021-12-30T16:20:17.160581",
     "exception": false,
     "start_time": "2021-12-30T16:20:17.117122",
     "status": "completed"
    },
    "tags": []
   },
   "source": []
  },
  {
   "cell_type": "markdown",
   "id": "21f14592",
   "metadata": {
    "papermill": {
     "duration": 0.042134,
     "end_time": "2021-12-30T16:20:17.246541",
     "exception": false,
     "start_time": "2021-12-30T16:20:17.204407",
     "status": "completed"
    },
    "tags": []
   },
   "source": [
    "# Step 3: Imputation\n",
    "\n",
    "### Part A\n",
    "\n",
    "Use the next code cell to impute missing values with the mean value along each column.  Set the preprocessed DataFrames to `imputed_X_train` and `imputed_X_valid`.  Make sure that the column names match those in `X_train` and `X_valid`."
   ]
  },
  {
   "cell_type": "code",
   "execution_count": 18,
   "id": "e1acfe66",
   "metadata": {
    "execution": {
     "iopub.execute_input": "2021-12-30T16:20:17.339466Z",
     "iopub.status.busy": "2021-12-30T16:20:17.338798Z",
     "iopub.status.idle": "2021-12-30T16:20:17.366379Z",
     "shell.execute_reply": "2021-12-30T16:20:17.366899Z",
     "shell.execute_reply.started": "2021-12-30T15:27:25.738773Z"
    },
    "papermill": {
     "duration": 0.076484,
     "end_time": "2021-12-30T16:20:17.367063",
     "exception": false,
     "start_time": "2021-12-30T16:20:17.290579",
     "status": "completed"
    },
    "tags": []
   },
   "outputs": [
    {
     "data": {
      "application/javascript": [
       "parent.postMessage({\"jupyterEvent\": \"custom.exercise_interaction\", \"data\": {\"outcomeType\": 1, \"valueTowardsCompletion\": 1.0, \"interactionType\": 1, \"questionType\": 2, \"questionId\": \"3.1_ImputeCode\", \"learnToolsVersion\": \"0.3.4\", \"failureMessage\": \"\", \"exceptionClass\": \"\", \"trace\": \"\"}}, \"*\")"
      ],
      "text/plain": [
       "<IPython.core.display.Javascript object>"
      ]
     },
     "metadata": {},
     "output_type": "display_data"
    },
    {
     "data": {
      "text/markdown": [
       "<span style=\"color:#33cc33\">Correct</span>"
      ],
      "text/plain": [
       "Correct"
      ]
     },
     "metadata": {},
     "output_type": "display_data"
    }
   ],
   "source": [
    "from sklearn.impute import SimpleImputer\n",
    "\n",
    "# Fill in the lines below: imputation\n",
    "imputer_implementer = SimpleImputer()  ## Calling SimpleImputer\n",
    "\n",
    "imputed_X_train = pd.DataFrame(imputer_implementer.fit_transform(X_train))\n",
    "imputed_X_valid = pd.DataFrame(imputer_implementer.transform(X_valid))\n",
    "\n",
    "# Fill in the lines below: imputation removed column names; put them back\n",
    "imputed_X_train.columns = X_train.columns\n",
    "imputed_X_valid.columns = X_valid.columns\n",
    "\n",
    "# Check your answers\n",
    "step_3.a.check()"
   ]
  },
  {
   "cell_type": "code",
   "execution_count": 19,
   "id": "14a887af",
   "metadata": {
    "execution": {
     "iopub.execute_input": "2021-12-30T16:20:17.459353Z",
     "iopub.status.busy": "2021-12-30T16:20:17.458418Z",
     "iopub.status.idle": "2021-12-30T16:20:17.461595Z",
     "shell.execute_reply": "2021-12-30T16:20:17.462094Z",
     "shell.execute_reply.started": "2021-12-30T15:27:25.773803Z"
    },
    "papermill": {
     "duration": 0.051298,
     "end_time": "2021-12-30T16:20:17.462247",
     "exception": false,
     "start_time": "2021-12-30T16:20:17.410949",
     "status": "completed"
    },
    "tags": []
   },
   "outputs": [],
   "source": [
    "# Lines below will give you a hint or solution code\n",
    "#step_3.a.hint()\n",
    "#step_3.a.solution()"
   ]
  },
  {
   "cell_type": "markdown",
   "id": "91b8de08",
   "metadata": {
    "papermill": {
     "duration": 0.043536,
     "end_time": "2021-12-30T16:20:17.549783",
     "exception": false,
     "start_time": "2021-12-30T16:20:17.506247",
     "status": "completed"
    },
    "tags": []
   },
   "source": [
    "Run the next code cell without changes to obtain the MAE for this approach."
   ]
  },
  {
   "cell_type": "code",
   "execution_count": 20,
   "id": "3a873a79",
   "metadata": {
    "execution": {
     "iopub.execute_input": "2021-12-30T16:20:17.641813Z",
     "iopub.status.busy": "2021-12-30T16:20:17.640870Z",
     "iopub.status.idle": "2021-12-30T16:20:18.941628Z",
     "shell.execute_reply": "2021-12-30T16:20:18.940542Z",
     "shell.execute_reply.started": "2021-12-30T15:27:25.781458Z"
    },
    "papermill": {
     "duration": 1.347827,
     "end_time": "2021-12-30T16:20:18.941894",
     "exception": false,
     "start_time": "2021-12-30T16:20:17.594067",
     "status": "completed"
    },
    "tags": []
   },
   "outputs": [
    {
     "name": "stdout",
     "output_type": "stream",
     "text": [
      "MAE (Imputation):\n",
      "18062.894611872147\n"
     ]
    }
   ],
   "source": [
    "print(\"MAE (Imputation):\")\n",
    "print(score_dataset(imputed_X_train, imputed_X_valid, y_train, y_valid))"
   ]
  },
  {
   "cell_type": "markdown",
   "id": "ad7bfbbb",
   "metadata": {
    "papermill": {
     "duration": 0.046021,
     "end_time": "2021-12-30T16:20:19.034662",
     "exception": false,
     "start_time": "2021-12-30T16:20:18.988641",
     "status": "completed"
    },
    "tags": []
   },
   "source": [
    "### Part B\n",
    "\n",
    "Compare the MAE from each approach.  Does anything surprise you about the results?  Why do you think one approach performed better than the other?"
   ]
  },
  {
   "cell_type": "markdown",
   "id": "4b0b1f59",
   "metadata": {
    "papermill": {
     "duration": 0.045409,
     "end_time": "2021-12-30T16:20:19.125949",
     "exception": false,
     "start_time": "2021-12-30T16:20:19.080540",
     "status": "completed"
    },
    "tags": []
   },
   "source": [
    "<b> Answer: </b> When comparing the result form both aproaches the Imputation approach yeild more MAE compared to the process of dropping null values. In this case Imputation sctually didn't work that well with the dataset and there could be number of reasons for that:\n",
    "\n",
    "1. The mean value imputation maynot always be the right option to handle null values.\n",
    "2. Sometimes the cell value can be assigned simply zero because they might not really have any values.\n",
    "3. We have many other options for handaling missing values besides imputation."
   ]
  },
  {
   "cell_type": "code",
   "execution_count": 21,
   "id": "81a3ce40",
   "metadata": {
    "execution": {
     "iopub.execute_input": "2021-12-30T16:20:19.221381Z",
     "iopub.status.busy": "2021-12-30T16:20:19.220449Z",
     "iopub.status.idle": "2021-12-30T16:20:19.228161Z",
     "shell.execute_reply": "2021-12-30T16:20:19.227631Z",
     "shell.execute_reply.started": "2021-12-30T15:27:27.150966Z"
    },
    "papermill": {
     "duration": 0.056043,
     "end_time": "2021-12-30T16:20:19.228287",
     "exception": false,
     "start_time": "2021-12-30T16:20:19.172244",
     "status": "completed"
    },
    "tags": []
   },
   "outputs": [
    {
     "data": {
      "application/javascript": [
       "parent.postMessage({\"jupyterEvent\": \"custom.exercise_interaction\", \"data\": {\"outcomeType\": 1, \"valueTowardsCompletion\": 1.0, \"interactionType\": 1, \"questionType\": 4, \"questionId\": \"3.2_ImputeThought\", \"learnToolsVersion\": \"0.3.4\", \"failureMessage\": \"\", \"exceptionClass\": \"\", \"trace\": \"\"}}, \"*\")"
      ],
      "text/plain": [
       "<IPython.core.display.Javascript object>"
      ]
     },
     "metadata": {},
     "output_type": "display_data"
    },
    {
     "data": {
      "text/markdown": [
       "<span style=\"color:#33cc33\">Correct:</span> \n",
       "\n",
       "Given that thre are so few missing values in the dataset, we'd expect imputation to perform better than dropping columns entirely.  However, we see that dropping columns performs slightly better!  While this can probably partially be attributed to noise in the dataset, another potential explanation is that the imputation method is not a great match to this dataset.  That is, maybe instead of filling in the mean value, it makes more sense to set every missing value to a value of 0, to fill in the most frequently encountered value, or to use some other method.  For instance, consider the `GarageYrBlt` column (which indicates the year that the garage was built).  It's likely that in some cases, a missing value could indicate a house that does not have a garage.  Does it make more sense to fill in the median value along each column in this case?  Or could we get better results by filling in the minimum value along each column?  It's not quite clear what's best in this case, but perhaps we can rule out some options immediately - for instance, setting missing values in this column to 0 is likely to yield horrible results!"
      ],
      "text/plain": [
       "Correct: \n",
       "\n",
       "Given that thre are so few missing values in the dataset, we'd expect imputation to perform better than dropping columns entirely.  However, we see that dropping columns performs slightly better!  While this can probably partially be attributed to noise in the dataset, another potential explanation is that the imputation method is not a great match to this dataset.  That is, maybe instead of filling in the mean value, it makes more sense to set every missing value to a value of 0, to fill in the most frequently encountered value, or to use some other method.  For instance, consider the `GarageYrBlt` column (which indicates the year that the garage was built).  It's likely that in some cases, a missing value could indicate a house that does not have a garage.  Does it make more sense to fill in the median value along each column in this case?  Or could we get better results by filling in the minimum value along each column?  It's not quite clear what's best in this case, but perhaps we can rule out some options immediately - for instance, setting missing values in this column to 0 is likely to yield horrible results!"
      ]
     },
     "metadata": {},
     "output_type": "display_data"
    }
   ],
   "source": [
    "# Check your answer (Run this code cell to receive credit!)\n",
    "step_3.b.check()"
   ]
  },
  {
   "cell_type": "code",
   "execution_count": 22,
   "id": "483f0165",
   "metadata": {
    "execution": {
     "iopub.execute_input": "2021-12-30T16:20:19.325255Z",
     "iopub.status.busy": "2021-12-30T16:20:19.324629Z",
     "iopub.status.idle": "2021-12-30T16:20:19.326097Z",
     "shell.execute_reply": "2021-12-30T16:20:19.326601Z",
     "shell.execute_reply.started": "2021-12-30T15:27:27.158775Z"
    },
    "papermill": {
     "duration": 0.051343,
     "end_time": "2021-12-30T16:20:19.326756",
     "exception": false,
     "start_time": "2021-12-30T16:20:19.275413",
     "status": "completed"
    },
    "tags": []
   },
   "outputs": [],
   "source": [
    "#step_3.b.hint()"
   ]
  },
  {
   "cell_type": "markdown",
   "id": "c682088c",
   "metadata": {
    "papermill": {
     "duration": 0.046132,
     "end_time": "2021-12-30T16:20:19.418934",
     "exception": false,
     "start_time": "2021-12-30T16:20:19.372802",
     "status": "completed"
    },
    "tags": []
   },
   "source": [
    "# Step 4: Generate test predictions\n",
    "\n",
    "In this final step, you'll use any approach of your choosing to deal with missing values.  Once you've preprocessed the training and validation features, you'll train and evaluate a random forest model.  Then, you'll preprocess the test data before generating predictions that can be submitted to the competition!\n",
    "\n",
    "### Part A\n",
    "\n",
    "Use the next code cell to preprocess the training and validation data.  Set the preprocessed DataFrames to `final_X_train` and `final_X_valid`.  **You can use any approach of your choosing here!**  in order for this step to be marked as correct, you need only ensure:\n",
    "- the preprocessed DataFrames have the same number of columns,\n",
    "- the preprocessed DataFrames have no missing values, \n",
    "- `final_X_train` and `y_train` have the same number of rows, and\n",
    "- `final_X_valid` and `y_valid` have the same number of rows."
   ]
  },
  {
   "cell_type": "code",
   "execution_count": 23,
   "id": "89ec39bb",
   "metadata": {
    "execution": {
     "iopub.execute_input": "2021-12-30T16:20:19.513923Z",
     "iopub.status.busy": "2021-12-30T16:20:19.513262Z",
     "iopub.status.idle": "2021-12-30T16:20:19.525859Z",
     "shell.execute_reply": "2021-12-30T16:20:19.526289Z",
     "shell.execute_reply.started": "2021-12-30T15:53:37.605333Z"
    },
    "papermill": {
     "duration": 0.061154,
     "end_time": "2021-12-30T16:20:19.526448",
     "exception": false,
     "start_time": "2021-12-30T16:20:19.465294",
     "status": "completed"
    },
    "tags": []
   },
   "outputs": [
    {
     "data": {
      "application/javascript": [
       "parent.postMessage({\"jupyterEvent\": \"custom.exercise_interaction\", \"data\": {\"outcomeType\": 1, \"valueTowardsCompletion\": 1.0, \"interactionType\": 1, \"questionType\": 2, \"questionId\": \"4.1_PredsCodeA\", \"learnToolsVersion\": \"0.3.4\", \"failureMessage\": \"\", \"exceptionClass\": \"\", \"trace\": \"\"}}, \"*\")"
      ],
      "text/plain": [
       "<IPython.core.display.Javascript object>"
      ]
     },
     "metadata": {},
     "output_type": "display_data"
    },
    {
     "data": {
      "text/markdown": [
       "<span style=\"color:#33cc33\">Correct</span>"
      ],
      "text/plain": [
       "Correct"
      ]
     },
     "metadata": {},
     "output_type": "display_data"
    }
   ],
   "source": [
    "# Preprocessed training and validation features\n",
    "# I will be using the clean value obtained after imputation\n",
    "final_X_train = imputed_X_train\n",
    "final_X_valid = imputed_X_valid\n",
    "\n",
    "# Check your answers\n",
    "step_4.a.check()"
   ]
  },
  {
   "cell_type": "code",
   "execution_count": 24,
   "id": "92b4083d",
   "metadata": {
    "execution": {
     "iopub.execute_input": "2021-12-30T16:20:19.621982Z",
     "iopub.status.busy": "2021-12-30T16:20:19.621338Z",
     "iopub.status.idle": "2021-12-30T16:20:19.627578Z",
     "shell.execute_reply": "2021-12-30T16:20:19.628531Z",
     "shell.execute_reply.started": "2021-12-30T15:53:45.501075Z"
    },
    "papermill": {
     "duration": 0.056281,
     "end_time": "2021-12-30T16:20:19.628736",
     "exception": false,
     "start_time": "2021-12-30T16:20:19.572455",
     "status": "completed"
    },
    "tags": []
   },
   "outputs": [
    {
     "name": "stdout",
     "output_type": "stream",
     "text": [
      " The shape of the final X train data is = (1168, 36)\n",
      " The shape of the final X valid data is = (292, 36)\n"
     ]
    },
    {
     "data": {
      "text/plain": [
       "(None, None)"
      ]
     },
     "execution_count": 24,
     "metadata": {},
     "output_type": "execute_result"
    }
   ],
   "source": [
    "# Let's check the shape of the final_X_train and final_X_valid\n",
    "\n",
    "print(\" The shape of the final X train data is =\",final_X_train.shape),print(\" The shape of the final X valid data is =\",final_X_valid.shape)"
   ]
  },
  {
   "cell_type": "markdown",
   "id": "9d1f242a",
   "metadata": {
    "papermill": {
     "duration": 0.048021,
     "end_time": "2021-12-30T16:20:19.725211",
     "exception": false,
     "start_time": "2021-12-30T16:20:19.677190",
     "status": "completed"
    },
    "tags": []
   },
   "source": [
    "Both train and validation dataset has 33 columns."
   ]
  },
  {
   "cell_type": "code",
   "execution_count": 25,
   "id": "45816297",
   "metadata": {
    "execution": {
     "iopub.execute_input": "2021-12-30T16:20:19.823084Z",
     "iopub.status.busy": "2021-12-30T16:20:19.822450Z",
     "iopub.status.idle": "2021-12-30T16:20:19.825240Z",
     "shell.execute_reply": "2021-12-30T16:20:19.825755Z",
     "shell.execute_reply.started": "2021-12-30T15:27:27.213542Z"
    },
    "papermill": {
     "duration": 0.053183,
     "end_time": "2021-12-30T16:20:19.825909",
     "exception": false,
     "start_time": "2021-12-30T16:20:19.772726",
     "status": "completed"
    },
    "tags": []
   },
   "outputs": [],
   "source": [
    "# Lines below will give you a hint or solution code\n",
    "#step_4.a.hint()\n",
    "#step_4.a.solution()"
   ]
  },
  {
   "cell_type": "markdown",
   "id": "8f63b4f1",
   "metadata": {
    "papermill": {
     "duration": 0.048102,
     "end_time": "2021-12-30T16:20:19.921076",
     "exception": false,
     "start_time": "2021-12-30T16:20:19.872974",
     "status": "completed"
    },
    "tags": []
   },
   "source": [
    "Run the next code cell to train and evaluate a random forest model.  (*Note that we don't use the `score_dataset()` function above, because we will soon use the trained model to generate test predictions!*)"
   ]
  },
  {
   "cell_type": "code",
   "execution_count": 26,
   "id": "6ec7f82e",
   "metadata": {
    "execution": {
     "iopub.execute_input": "2021-12-30T16:20:20.019401Z",
     "iopub.status.busy": "2021-12-30T16:20:20.018782Z",
     "iopub.status.idle": "2021-12-30T16:20:21.324570Z",
     "shell.execute_reply": "2021-12-30T16:20:21.325173Z",
     "shell.execute_reply.started": "2021-12-30T15:54:11.630622Z"
    },
    "papermill": {
     "duration": 1.356713,
     "end_time": "2021-12-30T16:20:21.325343",
     "exception": false,
     "start_time": "2021-12-30T16:20:19.968630",
     "status": "completed"
    },
    "tags": []
   },
   "outputs": [
    {
     "name": "stdout",
     "output_type": "stream",
     "text": [
      "MAE (Your approach):\n",
      "18062.894611872147\n"
     ]
    }
   ],
   "source": [
    "# Define and fit model\n",
    "model = RandomForestRegressor(n_estimators=100, random_state=0)\n",
    "model.fit(final_X_train, y_train)\n",
    "\n",
    "# Get validation predictions and MAE\n",
    "preds_valid = model.predict(final_X_valid)\n",
    "print(\"MAE (Your approach):\")\n",
    "print(mean_absolute_error(y_valid, preds_valid))"
   ]
  },
  {
   "cell_type": "markdown",
   "id": "cf833fc9",
   "metadata": {
    "papermill": {
     "duration": 0.047445,
     "end_time": "2021-12-30T16:20:21.420994",
     "exception": false,
     "start_time": "2021-12-30T16:20:21.373549",
     "status": "completed"
    },
    "tags": []
   },
   "source": [
    "### Part B\n",
    "\n",
    "Use the next code cell to preprocess your test data.  Make sure that you use a method that agrees with how you preprocessed the training and validation data, and set the preprocessed test features to `final_X_test`.\n",
    "\n",
    "Then, use the preprocessed test features and the trained model to generate test predictions in `preds_test`.\n",
    "\n",
    "In order for this step to be marked correct, you need only ensure:\n",
    "- the preprocessed test DataFrame has no missing values, and\n",
    "- `final_X_test` has the same number of rows as `X_test`."
   ]
  },
  {
   "cell_type": "markdown",
   "id": "d31ec91d",
   "metadata": {
    "papermill": {
     "duration": 0.047463,
     "end_time": "2021-12-30T16:20:21.516827",
     "exception": false,
     "start_time": "2021-12-30T16:20:21.469364",
     "status": "completed"
    },
    "tags": []
   },
   "source": [
    "#### Observing the test dataset"
   ]
  },
  {
   "cell_type": "code",
   "execution_count": 27,
   "id": "447cd1ba",
   "metadata": {
    "execution": {
     "iopub.execute_input": "2021-12-30T16:20:21.615728Z",
     "iopub.status.busy": "2021-12-30T16:20:21.615147Z",
     "iopub.status.idle": "2021-12-30T16:20:21.635534Z",
     "shell.execute_reply": "2021-12-30T16:20:21.636107Z",
     "shell.execute_reply.started": "2021-12-30T15:27:28.434342Z"
    },
    "papermill": {
     "duration": 0.071214,
     "end_time": "2021-12-30T16:20:21.636263",
     "exception": false,
     "start_time": "2021-12-30T16:20:21.565049",
     "status": "completed"
    },
    "tags": []
   },
   "outputs": [
    {
     "data": {
      "text/html": [
       "<div>\n",
       "<style scoped>\n",
       "    .dataframe tbody tr th:only-of-type {\n",
       "        vertical-align: middle;\n",
       "    }\n",
       "\n",
       "    .dataframe tbody tr th {\n",
       "        vertical-align: top;\n",
       "    }\n",
       "\n",
       "    .dataframe thead th {\n",
       "        text-align: right;\n",
       "    }\n",
       "</style>\n",
       "<table border=\"1\" class=\"dataframe\">\n",
       "  <thead>\n",
       "    <tr style=\"text-align: right;\">\n",
       "      <th></th>\n",
       "      <th>MSSubClass</th>\n",
       "      <th>LotFrontage</th>\n",
       "      <th>LotArea</th>\n",
       "      <th>OverallQual</th>\n",
       "      <th>OverallCond</th>\n",
       "      <th>YearBuilt</th>\n",
       "      <th>YearRemodAdd</th>\n",
       "      <th>MasVnrArea</th>\n",
       "      <th>BsmtFinSF1</th>\n",
       "      <th>BsmtFinSF2</th>\n",
       "      <th>...</th>\n",
       "      <th>GarageArea</th>\n",
       "      <th>WoodDeckSF</th>\n",
       "      <th>OpenPorchSF</th>\n",
       "      <th>EnclosedPorch</th>\n",
       "      <th>3SsnPorch</th>\n",
       "      <th>ScreenPorch</th>\n",
       "      <th>PoolArea</th>\n",
       "      <th>MiscVal</th>\n",
       "      <th>MoSold</th>\n",
       "      <th>YrSold</th>\n",
       "    </tr>\n",
       "    <tr>\n",
       "      <th>Id</th>\n",
       "      <th></th>\n",
       "      <th></th>\n",
       "      <th></th>\n",
       "      <th></th>\n",
       "      <th></th>\n",
       "      <th></th>\n",
       "      <th></th>\n",
       "      <th></th>\n",
       "      <th></th>\n",
       "      <th></th>\n",
       "      <th></th>\n",
       "      <th></th>\n",
       "      <th></th>\n",
       "      <th></th>\n",
       "      <th></th>\n",
       "      <th></th>\n",
       "      <th></th>\n",
       "      <th></th>\n",
       "      <th></th>\n",
       "      <th></th>\n",
       "      <th></th>\n",
       "    </tr>\n",
       "  </thead>\n",
       "  <tbody>\n",
       "    <tr>\n",
       "      <th>1461</th>\n",
       "      <td>20</td>\n",
       "      <td>80.0</td>\n",
       "      <td>11622</td>\n",
       "      <td>5</td>\n",
       "      <td>6</td>\n",
       "      <td>1961</td>\n",
       "      <td>1961</td>\n",
       "      <td>0.0</td>\n",
       "      <td>468.0</td>\n",
       "      <td>144.0</td>\n",
       "      <td>...</td>\n",
       "      <td>730.0</td>\n",
       "      <td>140</td>\n",
       "      <td>0</td>\n",
       "      <td>0</td>\n",
       "      <td>0</td>\n",
       "      <td>120</td>\n",
       "      <td>0</td>\n",
       "      <td>0</td>\n",
       "      <td>6</td>\n",
       "      <td>2010</td>\n",
       "    </tr>\n",
       "    <tr>\n",
       "      <th>1462</th>\n",
       "      <td>20</td>\n",
       "      <td>81.0</td>\n",
       "      <td>14267</td>\n",
       "      <td>6</td>\n",
       "      <td>6</td>\n",
       "      <td>1958</td>\n",
       "      <td>1958</td>\n",
       "      <td>108.0</td>\n",
       "      <td>923.0</td>\n",
       "      <td>0.0</td>\n",
       "      <td>...</td>\n",
       "      <td>312.0</td>\n",
       "      <td>393</td>\n",
       "      <td>36</td>\n",
       "      <td>0</td>\n",
       "      <td>0</td>\n",
       "      <td>0</td>\n",
       "      <td>0</td>\n",
       "      <td>12500</td>\n",
       "      <td>6</td>\n",
       "      <td>2010</td>\n",
       "    </tr>\n",
       "    <tr>\n",
       "      <th>1463</th>\n",
       "      <td>60</td>\n",
       "      <td>74.0</td>\n",
       "      <td>13830</td>\n",
       "      <td>5</td>\n",
       "      <td>5</td>\n",
       "      <td>1997</td>\n",
       "      <td>1998</td>\n",
       "      <td>0.0</td>\n",
       "      <td>791.0</td>\n",
       "      <td>0.0</td>\n",
       "      <td>...</td>\n",
       "      <td>482.0</td>\n",
       "      <td>212</td>\n",
       "      <td>34</td>\n",
       "      <td>0</td>\n",
       "      <td>0</td>\n",
       "      <td>0</td>\n",
       "      <td>0</td>\n",
       "      <td>0</td>\n",
       "      <td>3</td>\n",
       "      <td>2010</td>\n",
       "    </tr>\n",
       "    <tr>\n",
       "      <th>1464</th>\n",
       "      <td>60</td>\n",
       "      <td>78.0</td>\n",
       "      <td>9978</td>\n",
       "      <td>6</td>\n",
       "      <td>6</td>\n",
       "      <td>1998</td>\n",
       "      <td>1998</td>\n",
       "      <td>20.0</td>\n",
       "      <td>602.0</td>\n",
       "      <td>0.0</td>\n",
       "      <td>...</td>\n",
       "      <td>470.0</td>\n",
       "      <td>360</td>\n",
       "      <td>36</td>\n",
       "      <td>0</td>\n",
       "      <td>0</td>\n",
       "      <td>0</td>\n",
       "      <td>0</td>\n",
       "      <td>0</td>\n",
       "      <td>6</td>\n",
       "      <td>2010</td>\n",
       "    </tr>\n",
       "    <tr>\n",
       "      <th>1465</th>\n",
       "      <td>120</td>\n",
       "      <td>43.0</td>\n",
       "      <td>5005</td>\n",
       "      <td>8</td>\n",
       "      <td>5</td>\n",
       "      <td>1992</td>\n",
       "      <td>1992</td>\n",
       "      <td>0.0</td>\n",
       "      <td>263.0</td>\n",
       "      <td>0.0</td>\n",
       "      <td>...</td>\n",
       "      <td>506.0</td>\n",
       "      <td>0</td>\n",
       "      <td>82</td>\n",
       "      <td>0</td>\n",
       "      <td>0</td>\n",
       "      <td>144</td>\n",
       "      <td>0</td>\n",
       "      <td>0</td>\n",
       "      <td>1</td>\n",
       "      <td>2010</td>\n",
       "    </tr>\n",
       "  </tbody>\n",
       "</table>\n",
       "<p>5 rows × 36 columns</p>\n",
       "</div>"
      ],
      "text/plain": [
       "      MSSubClass  LotFrontage  LotArea  OverallQual  OverallCond  YearBuilt  \\\n",
       "Id                                                                            \n",
       "1461          20         80.0    11622            5            6       1961   \n",
       "1462          20         81.0    14267            6            6       1958   \n",
       "1463          60         74.0    13830            5            5       1997   \n",
       "1464          60         78.0     9978            6            6       1998   \n",
       "1465         120         43.0     5005            8            5       1992   \n",
       "\n",
       "      YearRemodAdd  MasVnrArea  BsmtFinSF1  BsmtFinSF2  ...  GarageArea  \\\n",
       "Id                                                      ...               \n",
       "1461          1961         0.0       468.0       144.0  ...       730.0   \n",
       "1462          1958       108.0       923.0         0.0  ...       312.0   \n",
       "1463          1998         0.0       791.0         0.0  ...       482.0   \n",
       "1464          1998        20.0       602.0         0.0  ...       470.0   \n",
       "1465          1992         0.0       263.0         0.0  ...       506.0   \n",
       "\n",
       "      WoodDeckSF  OpenPorchSF  EnclosedPorch  3SsnPorch  ScreenPorch  \\\n",
       "Id                                                                     \n",
       "1461         140            0              0          0          120   \n",
       "1462         393           36              0          0            0   \n",
       "1463         212           34              0          0            0   \n",
       "1464         360           36              0          0            0   \n",
       "1465           0           82              0          0          144   \n",
       "\n",
       "      PoolArea  MiscVal  MoSold  YrSold  \n",
       "Id                                       \n",
       "1461         0        0       6    2010  \n",
       "1462         0    12500       6    2010  \n",
       "1463         0        0       3    2010  \n",
       "1464         0        0       6    2010  \n",
       "1465         0        0       1    2010  \n",
       "\n",
       "[5 rows x 36 columns]"
      ]
     },
     "execution_count": 27,
     "metadata": {},
     "output_type": "execute_result"
    }
   ],
   "source": [
    "# let's observe first five values in our test dataset\n",
    "X_test.head()"
   ]
  },
  {
   "cell_type": "code",
   "execution_count": 28,
   "id": "484201e7",
   "metadata": {
    "execution": {
     "iopub.execute_input": "2021-12-30T16:20:21.736259Z",
     "iopub.status.busy": "2021-12-30T16:20:21.735695Z",
     "iopub.status.idle": "2021-12-30T16:20:21.742886Z",
     "shell.execute_reply": "2021-12-30T16:20:21.743451Z",
     "shell.execute_reply.started": "2021-12-30T15:27:28.464453Z"
    },
    "papermill": {
     "duration": 0.058691,
     "end_time": "2021-12-30T16:20:21.743618",
     "exception": false,
     "start_time": "2021-12-30T16:20:21.684927",
     "status": "completed"
    },
    "tags": []
   },
   "outputs": [
    {
     "data": {
      "text/plain": [
       "MSSubClass         0\n",
       "LotFrontage      227\n",
       "LotArea            0\n",
       "OverallQual        0\n",
       "OverallCond        0\n",
       "YearBuilt          0\n",
       "YearRemodAdd       0\n",
       "MasVnrArea        15\n",
       "BsmtFinSF1         1\n",
       "BsmtFinSF2         1\n",
       "BsmtUnfSF          1\n",
       "TotalBsmtSF        1\n",
       "1stFlrSF           0\n",
       "2ndFlrSF           0\n",
       "LowQualFinSF       0\n",
       "GrLivArea          0\n",
       "BsmtFullBath       2\n",
       "BsmtHalfBath       2\n",
       "FullBath           0\n",
       "HalfBath           0\n",
       "BedroomAbvGr       0\n",
       "KitchenAbvGr       0\n",
       "TotRmsAbvGrd       0\n",
       "Fireplaces         0\n",
       "GarageYrBlt       78\n",
       "GarageCars         1\n",
       "GarageArea         1\n",
       "WoodDeckSF         0\n",
       "OpenPorchSF        0\n",
       "EnclosedPorch      0\n",
       "3SsnPorch          0\n",
       "ScreenPorch        0\n",
       "PoolArea           0\n",
       "MiscVal            0\n",
       "MoSold             0\n",
       "YrSold             0\n",
       "dtype: int64"
      ]
     },
     "execution_count": 28,
     "metadata": {},
     "output_type": "execute_result"
    }
   ],
   "source": [
    "# Let's check for the null values\n",
    "\n",
    "X_test.isnull().sum()"
   ]
  },
  {
   "cell_type": "code",
   "execution_count": 29,
   "id": "1a5b08d8",
   "metadata": {
    "execution": {
     "iopub.execute_input": "2021-12-30T16:20:21.843666Z",
     "iopub.status.busy": "2021-12-30T16:20:21.843054Z",
     "iopub.status.idle": "2021-12-30T16:20:21.849883Z",
     "shell.execute_reply": "2021-12-30T16:20:21.850412Z",
     "shell.execute_reply.started": "2021-12-30T15:54:32.460772Z"
    },
    "papermill": {
     "duration": 0.058293,
     "end_time": "2021-12-30T16:20:21.850573",
     "exception": false,
     "start_time": "2021-12-30T16:20:21.792280",
     "status": "completed"
    },
    "tags": []
   },
   "outputs": [],
   "source": [
    "\n",
    "final_X_test = pd.DataFrame(imputer_implementer.transform(X_test))\n",
    "\n",
    "# Fill in the lines below: imputation removed column names; put them back\n",
    "final_X_test.columns = X_test.columns"
   ]
  },
  {
   "cell_type": "markdown",
   "id": "63650668",
   "metadata": {
    "papermill": {
     "duration": 0.049159,
     "end_time": "2021-12-30T16:20:21.949069",
     "exception": false,
     "start_time": "2021-12-30T16:20:21.899910",
     "status": "completed"
    },
    "tags": []
   },
   "source": [
    "Our test dataset is free of anynull values."
   ]
  },
  {
   "cell_type": "code",
   "execution_count": 30,
   "id": "3dbb3885",
   "metadata": {
    "execution": {
     "iopub.execute_input": "2021-12-30T16:20:22.050550Z",
     "iopub.status.busy": "2021-12-30T16:20:22.049936Z",
     "iopub.status.idle": "2021-12-30T16:20:22.094229Z",
     "shell.execute_reply": "2021-12-30T16:20:22.093759Z",
     "shell.execute_reply.started": "2021-12-30T15:54:49.452711Z"
    },
    "papermill": {
     "duration": 0.097103,
     "end_time": "2021-12-30T16:20:22.094360",
     "exception": false,
     "start_time": "2021-12-30T16:20:21.997257",
     "status": "completed"
    },
    "tags": []
   },
   "outputs": [
    {
     "data": {
      "application/javascript": [
       "parent.postMessage({\"jupyterEvent\": \"custom.exercise_interaction\", \"data\": {\"outcomeType\": 1, \"valueTowardsCompletion\": 1.0, \"interactionType\": 1, \"questionType\": 2, \"questionId\": \"4.2_PredsCodeB\", \"learnToolsVersion\": \"0.3.4\", \"failureMessage\": \"\", \"exceptionClass\": \"\", \"trace\": \"\"}}, \"*\")"
      ],
      "text/plain": [
       "<IPython.core.display.Javascript object>"
      ]
     },
     "metadata": {},
     "output_type": "display_data"
    },
    {
     "data": {
      "text/markdown": [
       "<span style=\"color:#33cc33\">Correct</span>"
      ],
      "text/plain": [
       "Correct"
      ]
     },
     "metadata": {},
     "output_type": "display_data"
    }
   ],
   "source": [
    "# Get test predictions\n",
    "preds_test = model.predict(final_X_test)\n",
    "# Check your answers\n",
    "step_4.b.check()"
   ]
  },
  {
   "cell_type": "code",
   "execution_count": 31,
   "id": "eec6f821",
   "metadata": {
    "execution": {
     "iopub.execute_input": "2021-12-30T16:20:22.202693Z",
     "iopub.status.busy": "2021-12-30T16:20:22.202014Z",
     "iopub.status.idle": "2021-12-30T16:20:22.206969Z",
     "shell.execute_reply": "2021-12-30T16:20:22.206399Z",
     "shell.execute_reply.started": "2021-12-30T15:43:14.241252Z"
    },
    "papermill": {
     "duration": 0.063133,
     "end_time": "2021-12-30T16:20:22.207099",
     "exception": false,
     "start_time": "2021-12-30T16:20:22.143966",
     "status": "completed"
    },
    "tags": []
   },
   "outputs": [
    {
     "data": {
      "application/javascript": [
       "parent.postMessage({\"jupyterEvent\": \"custom.exercise_interaction\", \"data\": {\"interactionType\": 3, \"questionType\": 2, \"questionId\": \"4.2_PredsCodeB\", \"learnToolsVersion\": \"0.3.4\", \"valueTowardsCompletion\": 0.0, \"failureMessage\": \"\", \"exceptionClass\": \"\", \"trace\": \"\", \"outcomeType\": 4}}, \"*\")"
      ],
      "text/plain": [
       "<IPython.core.display.Javascript object>"
      ]
     },
     "metadata": {},
     "output_type": "display_data"
    },
    {
     "data": {
      "text/markdown": [
       "<span style=\"color:#33cc99\">Solution:</span> \n",
       "```python\n",
       "# Preprocess test data\n",
       "final_X_test = pd.DataFrame(final_imputer.transform(X_test))\n",
       "\n",
       "# Get test predictions\n",
       "preds_test = model.predict(final_X_test)\n",
       "\n",
       "```"
      ],
      "text/plain": [
       "Solution: \n",
       "```python\n",
       "# Preprocess test data\n",
       "final_X_test = pd.DataFrame(final_imputer.transform(X_test))\n",
       "\n",
       "# Get test predictions\n",
       "preds_test = model.predict(final_X_test)\n",
       "\n",
       "```"
      ]
     },
     "metadata": {},
     "output_type": "display_data"
    }
   ],
   "source": [
    "# Lines below will give you a hint or solution code\n",
    "#step_4.b.hint()\n",
    "step_4.b.solution()"
   ]
  },
  {
   "cell_type": "markdown",
   "id": "753b3b81",
   "metadata": {
    "papermill": {
     "duration": 0.050781,
     "end_time": "2021-12-30T16:20:22.308112",
     "exception": false,
     "start_time": "2021-12-30T16:20:22.257331",
     "status": "completed"
    },
    "tags": []
   },
   "source": [
    "Run the next code cell without changes to save your results to a CSV file that can be submitted directly to the competition."
   ]
  },
  {
   "cell_type": "code",
   "execution_count": 32,
   "id": "7aea6a00",
   "metadata": {
    "execution": {
     "iopub.execute_input": "2021-12-30T16:20:22.416051Z",
     "iopub.status.busy": "2021-12-30T16:20:22.415370Z",
     "iopub.status.idle": "2021-12-30T16:20:22.424800Z",
     "shell.execute_reply": "2021-12-30T16:20:22.424323Z",
     "shell.execute_reply.started": "2021-12-30T15:27:28.611606Z"
    },
    "papermill": {
     "duration": 0.066186,
     "end_time": "2021-12-30T16:20:22.424924",
     "exception": false,
     "start_time": "2021-12-30T16:20:22.358738",
     "status": "completed"
    },
    "tags": []
   },
   "outputs": [],
   "source": [
    "# Save test predictions to file\n",
    "output = pd.DataFrame({'Id': X_test.index,\n",
    "                       'SalePrice': preds_test})\n",
    "output.to_csv('submission.csv', index=False)"
   ]
  },
  {
   "cell_type": "markdown",
   "id": "5aec0703",
   "metadata": {
    "papermill": {
     "duration": 0.050931,
     "end_time": "2021-12-30T16:20:22.527693",
     "exception": false,
     "start_time": "2021-12-30T16:20:22.476762",
     "status": "completed"
    },
    "tags": []
   },
   "source": [
    "# Submit your results\n",
    "\n",
    "Once you have successfully completed Step 4, you're ready to submit your results to the leaderboard!  (_You also learned how to do this in the previous exercise.  If you need a reminder of how to do this, please use the instructions below._)  \n",
    "\n",
    "First, you'll need to join the competition if you haven't already.  So open a new window by clicking on [this link](https://www.kaggle.com/c/home-data-for-ml-course).  Then click on the **Join Competition** button.\n",
    "\n",
    "![join competition image](https://i.imgur.com/wLmFtH3.png)\n",
    "\n",
    "Next, follow the instructions below:\n",
    "1. Begin by clicking on the **Save Version** button in the top right corner of the window.  This will generate a pop-up window.  \n",
    "2. Ensure that the **Save and Run All** option is selected, and then click on the **Save** button.\n",
    "3. This generates a window in the bottom left corner of the notebook.  After it has finished running, click on the number to the right of the **Save Version** button.  This pulls up a list of versions on the right of the screen.  Click on the ellipsis **(...)** to the right of the most recent version, and select **Open in Viewer**.  This brings you into view mode of the same page. You will need to scroll down to get back to these instructions.\n",
    "4. Click on the **Output** tab on the right of the screen.  Then, click on the file you would like to submit, and click on the **Submit** button to submit your results to the leaderboard.\n",
    "\n",
    "You have now successfully submitted to the competition!\n",
    "\n",
    "If you want to keep working to improve your performance, select the **Edit** button in the top right of the screen. Then you can change your code and repeat the process. There's a lot of room to improve, and you will climb up the leaderboard as you work.\n",
    "\n",
    "\n",
    "# Keep going\n",
    "\n",
    "Move on to learn what **[categorical variables](https://www.kaggle.com/alexisbcook/categorical-variables)** are, along with how to incorporate them into your machine learning models.  Categorical variables are very common in real-world data, but you'll get an error if you try to plug them into your models without processing them first!"
   ]
  },
  {
   "cell_type": "markdown",
   "id": "2b26f7b5",
   "metadata": {
    "papermill": {
     "duration": 0.050845,
     "end_time": "2021-12-30T16:20:22.629763",
     "exception": false,
     "start_time": "2021-12-30T16:20:22.578918",
     "status": "completed"
    },
    "tags": []
   },
   "source": [
    "---\n",
    "\n",
    "\n",
    "\n",
    "\n",
    "*Have questions or comments? Visit the [course discussion forum](https://www.kaggle.com/learn/intermediate-machine-learning/discussion) to chat with other learners.*"
   ]
  }
 ],
 "metadata": {
  "kernelspec": {
   "display_name": "Python 3",
   "language": "python",
   "name": "python3"
  },
  "language_info": {
   "codemirror_mode": {
    "name": "ipython",
    "version": 3
   },
   "file_extension": ".py",
   "mimetype": "text/x-python",
   "name": "python",
   "nbconvert_exporter": "python",
   "pygments_lexer": "ipython3",
   "version": "3.7.12"
  },
  "papermill": {
   "default_parameters": {},
   "duration": 20.606169,
   "end_time": "2021-12-30T16:20:23.291322",
   "environment_variables": {},
   "exception": null,
   "input_path": "__notebook__.ipynb",
   "output_path": "__notebook__.ipynb",
   "parameters": {},
   "start_time": "2021-12-30T16:20:02.685153",
   "version": "2.3.3"
  }
 },
 "nbformat": 4,
 "nbformat_minor": 5
}
