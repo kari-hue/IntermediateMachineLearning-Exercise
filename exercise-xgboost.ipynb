{
 "cells": [
  {
   "cell_type": "markdown",
   "id": "d7815258",
   "metadata": {
    "papermill": {
     "duration": 0.019528,
     "end_time": "2021-12-29T09:49:57.814918",
     "exception": false,
     "start_time": "2021-12-29T09:49:57.795390",
     "status": "completed"
    },
    "tags": []
   },
   "source": [
    "**This notebook is an exercise in the [Intermediate Machine Learning](https://www.kaggle.com/learn/intermediate-machine-learning) course.  You can reference the tutorial at [this link](https://www.kaggle.com/alexisbcook/xgboost).**\n",
    "\n",
    "---\n"
   ]
  },
  {
   "cell_type": "markdown",
   "id": "6a249c7a",
   "metadata": {
    "papermill": {
     "duration": 0.020181,
     "end_time": "2021-12-29T09:49:57.856829",
     "exception": false,
     "start_time": "2021-12-29T09:49:57.836648",
     "status": "completed"
    },
    "tags": []
   },
   "source": [
    "In this exercise, you will use your new knowledge to train a model with **gradient boosting**.\n",
    "\n",
    "# Setup\n",
    "\n",
    "The questions below will give you feedback on your work. Run the following cell to set up the feedback system."
   ]
  },
  {
   "cell_type": "code",
   "execution_count": 1,
   "id": "55997d09",
   "metadata": {
    "execution": {
     "iopub.execute_input": "2021-12-29T09:49:57.902784Z",
     "iopub.status.busy": "2021-12-29T09:49:57.900953Z",
     "iopub.status.idle": "2021-12-29T09:50:01.144540Z",
     "shell.execute_reply": "2021-12-29T09:50:01.145622Z",
     "shell.execute_reply.started": "2021-12-29T09:35:13.765172Z"
    },
    "papermill": {
     "duration": 3.270751,
     "end_time": "2021-12-29T09:50:01.146099",
     "exception": false,
     "start_time": "2021-12-29T09:49:57.875348",
     "status": "completed"
    },
    "tags": []
   },
   "outputs": [
    {
     "name": "stdout",
     "output_type": "stream",
     "text": [
      "Setup Complete\n"
     ]
    }
   ],
   "source": [
    "# Set up code checking\n",
    "import os\n",
    "if not os.path.exists(\"../input/train.csv\"):\n",
    "    os.symlink(\"../input/home-data-for-ml-course/train.csv\", \"../input/train.csv\")  \n",
    "    os.symlink(\"../input/home-data-for-ml-course/test.csv\", \"../input/test.csv\") \n",
    "from learntools.core import binder\n",
    "binder.bind(globals())\n",
    "from learntools.ml_intermediate.ex6 import *\n",
    "print(\"Setup Complete\")"
   ]
  },
  {
   "cell_type": "markdown",
   "id": "c48ef914",
   "metadata": {
    "papermill": {
     "duration": 0.016404,
     "end_time": "2021-12-29T09:50:01.181460",
     "exception": false,
     "start_time": "2021-12-29T09:50:01.165056",
     "status": "completed"
    },
    "tags": []
   },
   "source": [
    "You will work with the [Housing Prices Competition for Kaggle Learn Users](https://www.kaggle.com/c/home-data-for-ml-course) dataset from the previous exercise. \n",
    "\n",
    "![Ames Housing dataset image](https://i.imgur.com/lTJVG4e.png)\n",
    "\n",
    "Run the next code cell without changes to load the training and validation sets in `X_train`, `X_valid`, `y_train`, and `y_valid`.  The test set is loaded in `X_test`."
   ]
  },
  {
   "cell_type": "code",
   "execution_count": 2,
   "id": "0e4b0f37",
   "metadata": {
    "execution": {
     "iopub.execute_input": "2021-12-29T09:50:01.229465Z",
     "iopub.status.busy": "2021-12-29T09:50:01.224486Z",
     "iopub.status.idle": "2021-12-29T09:50:01.423260Z",
     "shell.execute_reply": "2021-12-29T09:50:01.423764Z",
     "shell.execute_reply.started": "2021-12-29T09:35:25.232369Z"
    },
    "papermill": {
     "duration": 0.2253,
     "end_time": "2021-12-29T09:50:01.423972",
     "exception": false,
     "start_time": "2021-12-29T09:50:01.198672",
     "status": "completed"
    },
    "tags": []
   },
   "outputs": [],
   "source": [
    "import pandas as pd\n",
    "from sklearn.model_selection import train_test_split\n",
    "\n",
    "# Read the data\n",
    "X = pd.read_csv('../input/train.csv', index_col='Id')\n",
    "X_test_full = pd.read_csv('../input/test.csv', index_col='Id')\n",
    "\n",
    "# Remove rows with missing target, separate target from predictors\n",
    "X.dropna(axis=0, subset=['SalePrice'], inplace=True)\n",
    "y = X.SalePrice              \n",
    "X.drop(['SalePrice'], axis=1, inplace=True)\n",
    "\n",
    "# Break off validation set from training data\n",
    "X_train_full, X_valid_full, y_train, y_valid = train_test_split(X, y, train_size=0.8, test_size=0.2,\n",
    "                                                                random_state=0)\n",
    "\n",
    "# \"Cardinality\" means the number of unique values in a column\n",
    "# Select categorical columns with relatively low cardinality (convenient but arbitrary)\n",
    "low_cardinality_cols = [cname for cname in X_train_full.columns if X_train_full[cname].nunique() < 10 and \n",
    "                        X_train_full[cname].dtype == \"object\"]\n",
    "\n",
    "# Select numeric columns\n",
    "numeric_cols = [cname for cname in X_train_full.columns if X_train_full[cname].dtype in ['int64', 'float64']]\n",
    "\n",
    "# Keep selected columns only\n",
    "my_cols = low_cardinality_cols + numeric_cols\n",
    "X_train = X_train_full[my_cols].copy()\n",
    "X_valid = X_valid_full[my_cols].copy()\n",
    "X_test = X_test_full[my_cols].copy()\n",
    "\n",
    "# One-hot encode the data (to shorten the code, we use pandas)\n",
    "X_train = pd.get_dummies(X_train)\n",
    "X_valid = pd.get_dummies(X_valid)\n",
    "X_test = pd.get_dummies(X_test)\n",
    "X_train, X_valid = X_train.align(X_valid, join='left', axis=1)\n",
    "X_train, X_test = X_train.align(X_test, join='left', axis=1)"
   ]
  },
  {
   "cell_type": "markdown",
   "id": "13f3b61c",
   "metadata": {
    "papermill": {
     "duration": 0.016231,
     "end_time": "2021-12-29T09:50:01.457312",
     "exception": false,
     "start_time": "2021-12-29T09:50:01.441081",
     "status": "completed"
    },
    "tags": []
   },
   "source": [
    "# Step 1: Build model\n",
    "\n",
    "### Part A\n",
    "\n",
    "In this step, you'll build and train your first model with gradient boosting.\n",
    "\n",
    "- Begin by setting `my_model_1` to an XGBoost model.  Use the [XGBRegressor](https://xgboost.readthedocs.io/en/latest/python/python_api.html#xgboost.XGBRegressor) class, and set the random seed to 0 (`random_state=0`).  **Leave all other parameters as default.**\n",
    "- Then, fit the model to the training data in `X_train` and `y_train`."
   ]
  },
  {
   "cell_type": "code",
   "execution_count": 3,
   "id": "9300e6cd",
   "metadata": {
    "execution": {
     "iopub.execute_input": "2021-12-29T09:50:01.496239Z",
     "iopub.status.busy": "2021-12-29T09:50:01.495630Z",
     "iopub.status.idle": "2021-12-29T09:50:02.430201Z",
     "shell.execute_reply": "2021-12-29T09:50:02.430697Z",
     "shell.execute_reply.started": "2021-12-29T09:37:08.601157Z"
    },
    "papermill": {
     "duration": 0.957237,
     "end_time": "2021-12-29T09:50:02.430921",
     "exception": false,
     "start_time": "2021-12-29T09:50:01.473684",
     "status": "completed"
    },
    "tags": []
   },
   "outputs": [
    {
     "data": {
      "application/javascript": [
       "parent.postMessage({\"jupyterEvent\": \"custom.exercise_interaction\", \"data\": {\"outcomeType\": 1, \"valueTowardsCompletion\": 0.5, \"interactionType\": 1, \"questionType\": 2, \"questionId\": \"1.1_Model1A\", \"learnToolsVersion\": \"0.3.4\", \"failureMessage\": \"\", \"exceptionClass\": \"\", \"trace\": \"\"}}, \"*\")"
      ],
      "text/plain": [
       "<IPython.core.display.Javascript object>"
      ]
     },
     "metadata": {},
     "output_type": "display_data"
    },
    {
     "data": {
      "text/markdown": [
       "<span style=\"color:#33cc33\">Correct</span>"
      ],
      "text/plain": [
       "Correct"
      ]
     },
     "metadata": {},
     "output_type": "display_data"
    }
   ],
   "source": [
    "from xgboost import XGBRegressor\n",
    "\n",
    "# Define the model\n",
    "my_model_1 = XGBRegressor(random_state = 0)\n",
    "\n",
    "# Fit the model\n",
    "my_model_1.fit(X_train,y_train)\n",
    "\n",
    "# Check your answer\n",
    "step_1.a.check()"
   ]
  },
  {
   "cell_type": "code",
   "execution_count": 4,
   "id": "5583b4cb",
   "metadata": {
    "execution": {
     "iopub.execute_input": "2021-12-29T09:50:02.471547Z",
     "iopub.status.busy": "2021-12-29T09:50:02.470891Z",
     "iopub.status.idle": "2021-12-29T09:50:02.472972Z",
     "shell.execute_reply": "2021-12-29T09:50:02.473398Z"
    },
    "papermill": {
     "duration": 0.024866,
     "end_time": "2021-12-29T09:50:02.473609",
     "exception": false,
     "start_time": "2021-12-29T09:50:02.448743",
     "status": "completed"
    },
    "tags": []
   },
   "outputs": [],
   "source": [
    "# Lines below will give you a hint or solution code\n",
    "#step_1.a.hint()\n",
    "#step_1.a.solution()"
   ]
  },
  {
   "cell_type": "markdown",
   "id": "10d455dc",
   "metadata": {
    "papermill": {
     "duration": 0.017248,
     "end_time": "2021-12-29T09:50:02.508543",
     "exception": false,
     "start_time": "2021-12-29T09:50:02.491295",
     "status": "completed"
    },
    "tags": []
   },
   "source": [
    "### Part B\n",
    "\n",
    "Set `predictions_1` to the model's predictions for the validation data.  Recall that the validation features are stored in `X_valid`."
   ]
  },
  {
   "cell_type": "code",
   "execution_count": 5,
   "id": "ddd4a261",
   "metadata": {
    "execution": {
     "iopub.execute_input": "2021-12-29T09:50:02.549815Z",
     "iopub.status.busy": "2021-12-29T09:50:02.549188Z",
     "iopub.status.idle": "2021-12-29T09:50:02.574163Z",
     "shell.execute_reply": "2021-12-29T09:50:02.574671Z",
     "shell.execute_reply.started": "2021-12-29T09:37:44.801110Z"
    },
    "papermill": {
     "duration": 0.048805,
     "end_time": "2021-12-29T09:50:02.574870",
     "exception": false,
     "start_time": "2021-12-29T09:50:02.526065",
     "status": "completed"
    },
    "tags": []
   },
   "outputs": [
    {
     "data": {
      "application/javascript": [
       "parent.postMessage({\"jupyterEvent\": \"custom.exercise_interaction\", \"data\": {\"outcomeType\": 1, \"valueTowardsCompletion\": 0.5, \"interactionType\": 1, \"questionType\": 2, \"questionId\": \"1.2_Model1B\", \"learnToolsVersion\": \"0.3.4\", \"failureMessage\": \"\", \"exceptionClass\": \"\", \"trace\": \"\"}}, \"*\")"
      ],
      "text/plain": [
       "<IPython.core.display.Javascript object>"
      ]
     },
     "metadata": {},
     "output_type": "display_data"
    },
    {
     "data": {
      "text/markdown": [
       "<span style=\"color:#33cc33\">Correct</span>"
      ],
      "text/plain": [
       "Correct"
      ]
     },
     "metadata": {},
     "output_type": "display_data"
    }
   ],
   "source": [
    "from sklearn.metrics import mean_absolute_error\n",
    "\n",
    "# Get predictions\n",
    "predictions_1 = my_model_1.predict(X_valid)\n",
    "\n",
    "# Check your answer\n",
    "step_1.b.check()"
   ]
  },
  {
   "cell_type": "code",
   "execution_count": 6,
   "id": "a2664f2a",
   "metadata": {
    "execution": {
     "iopub.execute_input": "2021-12-29T09:50:02.617003Z",
     "iopub.status.busy": "2021-12-29T09:50:02.616345Z",
     "iopub.status.idle": "2021-12-29T09:50:02.618602Z",
     "shell.execute_reply": "2021-12-29T09:50:02.619173Z"
    },
    "papermill": {
     "duration": 0.025732,
     "end_time": "2021-12-29T09:50:02.619321",
     "exception": false,
     "start_time": "2021-12-29T09:50:02.593589",
     "status": "completed"
    },
    "tags": []
   },
   "outputs": [],
   "source": [
    "# Lines below will give you a hint or solution code\n",
    "#step_1.b.hint()\n",
    "#step_1.b.solution()"
   ]
  },
  {
   "cell_type": "markdown",
   "id": "9165a48d",
   "metadata": {
    "papermill": {
     "duration": 0.01819,
     "end_time": "2021-12-29T09:50:02.655943",
     "exception": false,
     "start_time": "2021-12-29T09:50:02.637753",
     "status": "completed"
    },
    "tags": []
   },
   "source": [
    "### Part C\n",
    "\n",
    "Finally, use the `mean_absolute_error()` function to calculate the mean absolute error (MAE) corresponding to the predictions for the validation set.  Recall that the labels for the validation data are stored in `y_valid`."
   ]
  },
  {
   "cell_type": "code",
   "execution_count": 7,
   "id": "db885cc0",
   "metadata": {
    "execution": {
     "iopub.execute_input": "2021-12-29T09:50:02.696389Z",
     "iopub.status.busy": "2021-12-29T09:50:02.695801Z",
     "iopub.status.idle": "2021-12-29T09:50:02.706491Z",
     "shell.execute_reply": "2021-12-29T09:50:02.707017Z",
     "shell.execute_reply.started": "2021-12-29T09:39:19.116403Z"
    },
    "papermill": {
     "duration": 0.032711,
     "end_time": "2021-12-29T09:50:02.707181",
     "exception": false,
     "start_time": "2021-12-29T09:50:02.674470",
     "status": "completed"
    },
    "tags": []
   },
   "outputs": [
    {
     "name": "stdout",
     "output_type": "stream",
     "text": [
      "Mean Absolute Error: 17662.736729452055\n"
     ]
    },
    {
     "data": {
      "application/javascript": [
       "parent.postMessage({\"jupyterEvent\": \"custom.exercise_interaction\", \"data\": {\"outcomeType\": 1, \"valueTowardsCompletion\": 0.5, \"interactionType\": 1, \"questionType\": 2, \"questionId\": \"1.3_Model1C\", \"learnToolsVersion\": \"0.3.4\", \"failureMessage\": \"\", \"exceptionClass\": \"\", \"trace\": \"\"}}, \"*\")"
      ],
      "text/plain": [
       "<IPython.core.display.Javascript object>"
      ]
     },
     "metadata": {},
     "output_type": "display_data"
    },
    {
     "data": {
      "text/markdown": [
       "<span style=\"color:#33cc33\">Correct</span>"
      ],
      "text/plain": [
       "Correct"
      ]
     },
     "metadata": {},
     "output_type": "display_data"
    }
   ],
   "source": [
    "# Calculate MAE\n",
    "mae_1 = mean_absolute_error(predictions_1,y_valid)\n",
    "# Uncomment to print MAE\n",
    "print(\"Mean Absolute Error:\" , mae_1)\n",
    "\n",
    "# Check your answer\n",
    "step_1.c.check()"
   ]
  },
  {
   "cell_type": "markdown",
   "id": "17f2c1e3",
   "metadata": {
    "papermill": {
     "duration": 0.020225,
     "end_time": "2021-12-29T09:50:02.747622",
     "exception": false,
     "start_time": "2021-12-29T09:50:02.727397",
     "status": "completed"
    },
    "tags": []
   },
   "source": [
    "We got the mean square error as 17662.7367."
   ]
  },
  {
   "cell_type": "code",
   "execution_count": 8,
   "id": "8ec2ff36",
   "metadata": {
    "execution": {
     "iopub.execute_input": "2021-12-29T09:50:02.792850Z",
     "iopub.status.busy": "2021-12-29T09:50:02.792176Z",
     "iopub.status.idle": "2021-12-29T09:50:02.794162Z",
     "shell.execute_reply": "2021-12-29T09:50:02.794787Z"
    },
    "papermill": {
     "duration": 0.026793,
     "end_time": "2021-12-29T09:50:02.794951",
     "exception": false,
     "start_time": "2021-12-29T09:50:02.768158",
     "status": "completed"
    },
    "tags": []
   },
   "outputs": [],
   "source": [
    "# Lines below will give you a hint or solution code\n",
    "#step_1.c.hint()\n",
    "#step_1.c.solution()"
   ]
  },
  {
   "cell_type": "markdown",
   "id": "41f7a8bc",
   "metadata": {
    "papermill": {
     "duration": 0.020875,
     "end_time": "2021-12-29T09:50:02.836213",
     "exception": false,
     "start_time": "2021-12-29T09:50:02.815338",
     "status": "completed"
    },
    "tags": []
   },
   "source": [
    "# Step 2: Improve the model\n",
    "\n",
    "Now that you've trained a default model as baseline, it's time to tinker with the parameters, to see if you can get better performance!\n",
    "- Begin by setting `my_model_2` to an XGBoost model, using the [XGBRegressor](https://xgboost.readthedocs.io/en/latest/python/python_api.html#xgboost.XGBRegressor) class.  Use what you learned in the previous tutorial to figure out how to change the default parameters (like `n_estimators` and `learning_rate`) to get better results.\n",
    "- Then, fit the model to the training data in `X_train` and `y_train`.\n",
    "- Set `predictions_2` to the model's predictions for the validation data.  Recall that the validation features are stored in `X_valid`.\n",
    "- Finally, use the `mean_absolute_error()` function to calculate the mean absolute error (MAE) corresponding to the predictions on the validation set.  Recall that the labels for the validation data are stored in `y_valid`.\n",
    "\n",
    "In order for this step to be marked correct, your model in `my_model_2` must attain lower MAE than the model in `my_model_1`. "
   ]
  },
  {
   "cell_type": "code",
   "execution_count": 9,
   "id": "4808ded3",
   "metadata": {
    "execution": {
     "iopub.execute_input": "2021-12-29T09:50:02.883226Z",
     "iopub.status.busy": "2021-12-29T09:50:02.880086Z",
     "iopub.status.idle": "2021-12-29T09:50:07.495067Z",
     "shell.execute_reply": "2021-12-29T09:50:07.495623Z",
     "shell.execute_reply.started": "2021-12-29T09:42:54.411977Z"
    },
    "papermill": {
     "duration": 4.638966,
     "end_time": "2021-12-29T09:50:07.495866",
     "exception": false,
     "start_time": "2021-12-29T09:50:02.856900",
     "status": "completed"
    },
    "tags": []
   },
   "outputs": [
    {
     "name": "stdout",
     "output_type": "stream",
     "text": [
      "Mean Absolute Error: 17287.811055222603\n"
     ]
    },
    {
     "data": {
      "application/javascript": [
       "parent.postMessage({\"jupyterEvent\": \"custom.exercise_interaction\", \"data\": {\"outcomeType\": 1, \"valueTowardsCompletion\": 0.5, \"interactionType\": 1, \"questionType\": 2, \"questionId\": \"2_Model2\", \"learnToolsVersion\": \"0.3.4\", \"failureMessage\": \"\", \"exceptionClass\": \"\", \"trace\": \"\"}}, \"*\")"
      ],
      "text/plain": [
       "<IPython.core.display.Javascript object>"
      ]
     },
     "metadata": {},
     "output_type": "display_data"
    },
    {
     "data": {
      "text/markdown": [
       "<span style=\"color:#33cc33\">Correct</span>"
      ],
      "text/plain": [
       "Correct"
      ]
     },
     "metadata": {},
     "output_type": "display_data"
    }
   ],
   "source": [
    "# Define the model\n",
    "my_model_2 = XGBRegressor(n_estimators = 500, learning_rate = 0.01)\n",
    "\n",
    "# Fit the model\n",
    "my_model_2.fit(X_train,y_train)\n",
    "\n",
    "# Get predictions\n",
    "predictions_2 = my_model_2.predict(X_valid) # Your code here\n",
    "\n",
    "# Calculate MAE\n",
    "mae_2 = mean_absolute_error(y_valid,predictions_2)\n",
    "\n",
    "# Uncomment to print MAE\n",
    "print(\"Mean Absolute Error:\" , mae_2)\n",
    "\n",
    "# Check your answer\n",
    "step_2.check()"
   ]
  },
  {
   "cell_type": "markdown",
   "id": "216fb530",
   "metadata": {
    "papermill": {
     "duration": 0.02149,
     "end_time": "2021-12-29T09:50:07.539905",
     "exception": false,
     "start_time": "2021-12-29T09:50:07.518415",
     "status": "completed"
    },
    "tags": []
   },
   "source": [
    "Our MAE improved a little bit."
   ]
  },
  {
   "cell_type": "code",
   "execution_count": 10,
   "id": "66d91159",
   "metadata": {
    "execution": {
     "iopub.execute_input": "2021-12-29T09:50:07.589317Z",
     "iopub.status.busy": "2021-12-29T09:50:07.588245Z",
     "iopub.status.idle": "2021-12-29T09:50:07.590851Z",
     "shell.execute_reply": "2021-12-29T09:50:07.590202Z"
    },
    "papermill": {
     "duration": 0.029226,
     "end_time": "2021-12-29T09:50:07.591000",
     "exception": false,
     "start_time": "2021-12-29T09:50:07.561774",
     "status": "completed"
    },
    "tags": []
   },
   "outputs": [],
   "source": [
    "# Lines below will give you a hint or solution code\n",
    "#step_2.hint()\n",
    "#step_2.solution()"
   ]
  },
  {
   "cell_type": "markdown",
   "id": "de08ef7e",
   "metadata": {
    "papermill": {
     "duration": 0.02165,
     "end_time": "2021-12-29T09:50:07.635962",
     "exception": false,
     "start_time": "2021-12-29T09:50:07.614312",
     "status": "completed"
    },
    "tags": []
   },
   "source": [
    "# Step 3: Break the model\n",
    "\n",
    "In this step, you will create a model that performs worse than the original model in Step 1.  This will help you to develop your intuition for how to set parameters.  You might even find that you accidentally get better performance, which is ultimately a nice problem to have and a valuable learning experience!\n",
    "- Begin by setting `my_model_3` to an XGBoost model, using the [XGBRegressor](https://xgboost.readthedocs.io/en/latest/python/python_api.html#xgboost.XGBRegressor) class.  Use what you learned in the previous tutorial to figure out how to change the default parameters (like `n_estimators` and `learning_rate`) to design a model to get high MAE.\n",
    "- Then, fit the model to the training data in `X_train` and `y_train`.\n",
    "- Set `predictions_3` to the model's predictions for the validation data.  Recall that the validation features are stored in `X_valid`.\n",
    "- Finally, use the `mean_absolute_error()` function to calculate the mean absolute error (MAE) corresponding to the predictions on the validation set.  Recall that the labels for the validation data are stored in `y_valid`.\n",
    "\n",
    "In order for this step to be marked correct, your model in `my_model_3` must attain higher MAE than the model in `my_model_1`. "
   ]
  },
  {
   "cell_type": "code",
   "execution_count": 11,
   "id": "2d851a93",
   "metadata": {
    "execution": {
     "iopub.execute_input": "2021-12-29T09:50:07.685409Z",
     "iopub.status.busy": "2021-12-29T09:50:07.684444Z",
     "iopub.status.idle": "2021-12-29T09:50:08.644337Z",
     "shell.execute_reply": "2021-12-29T09:50:08.645207Z",
     "shell.execute_reply.started": "2021-12-29T09:47:37.857346Z"
    },
    "papermill": {
     "duration": 0.986537,
     "end_time": "2021-12-29T09:50:08.645427",
     "exception": false,
     "start_time": "2021-12-29T09:50:07.658890",
     "status": "completed"
    },
    "tags": []
   },
   "outputs": [
    {
     "name": "stdout",
     "output_type": "stream",
     "text": [
      "Mean Absolute Error: 20930.964656464042\n"
     ]
    },
    {
     "data": {
      "application/javascript": [
       "parent.postMessage({\"jupyterEvent\": \"custom.exercise_interaction\", \"data\": {\"outcomeType\": 1, \"valueTowardsCompletion\": 0.5, \"interactionType\": 1, \"questionType\": 2, \"questionId\": \"3_Model3\", \"learnToolsVersion\": \"0.3.4\", \"failureMessage\": \"\", \"exceptionClass\": \"\", \"trace\": \"\"}}, \"*\")"
      ],
      "text/plain": [
       "<IPython.core.display.Javascript object>"
      ]
     },
     "metadata": {},
     "output_type": "display_data"
    },
    {
     "data": {
      "text/markdown": [
       "<span style=\"color:#33cc33\">Correct</span>"
      ],
      "text/plain": [
       "Correct"
      ]
     },
     "metadata": {},
     "output_type": "display_data"
    }
   ],
   "source": [
    "# Define the model\n",
    "my_model_3 = XGBRegressor(n_estimators = 100,learning_rate = 0.5)\n",
    "\n",
    "# Fit the model\n",
    "my_model_3.fit(X_train,y_train)\n",
    "\n",
    "# Get predictions\n",
    "predictions_3 = my_model_3.predict(X_valid)\n",
    "\n",
    "# Calculate MAE\n",
    "mae_3 = mean_absolute_error(y_valid,predictions_3)\n",
    "\n",
    "# Uncomment to print MAE\n",
    "print(\"Mean Absolute Error:\" , mae_3)\n",
    "\n",
    "# Check your answer\n",
    "step_3.check()"
   ]
  },
  {
   "cell_type": "markdown",
   "id": "2e7d18e7",
   "metadata": {
    "papermill": {
     "duration": 0.023372,
     "end_time": "2021-12-29T09:50:08.693278",
     "exception": false,
     "start_time": "2021-12-29T09:50:08.669906",
     "status": "completed"
    },
    "tags": []
   },
   "source": [
    "<b> Answer :</b> So from the above observation we can see our model performing worst as we have used least number of estimator and the learning rate is quite high that deviates our parameter from reaching the global minima hence, degrading the performance of our model."
   ]
  },
  {
   "cell_type": "code",
   "execution_count": 12,
   "id": "f6b5d47a",
   "metadata": {
    "execution": {
     "iopub.execute_input": "2021-12-29T09:50:08.743656Z",
     "iopub.status.busy": "2021-12-29T09:50:08.743014Z",
     "iopub.status.idle": "2021-12-29T09:50:08.745904Z",
     "shell.execute_reply": "2021-12-29T09:50:08.746431Z"
    },
    "papermill": {
     "duration": 0.029835,
     "end_time": "2021-12-29T09:50:08.746620",
     "exception": false,
     "start_time": "2021-12-29T09:50:08.716785",
     "status": "completed"
    },
    "tags": []
   },
   "outputs": [],
   "source": [
    "# Lines below will give you a hint or solution code\n",
    "#step_3.hint()\n",
    "#step_3.solution()"
   ]
  },
  {
   "cell_type": "markdown",
   "id": "e406b52b",
   "metadata": {
    "papermill": {
     "duration": 0.030317,
     "end_time": "2021-12-29T09:50:08.801022",
     "exception": false,
     "start_time": "2021-12-29T09:50:08.770705",
     "status": "completed"
    },
    "tags": []
   },
   "source": [
    "# Keep going\n",
    "\n",
    "Continue to learn about **[data leakage](https://www.kaggle.com/alexisbcook/data-leakage)**.  This is an important issue for a data scientist to understand, and it has the potential to ruin your models in subtle and dangerous ways!"
   ]
  },
  {
   "cell_type": "markdown",
   "id": "c8a5011b",
   "metadata": {
    "papermill": {
     "duration": 0.028555,
     "end_time": "2021-12-29T09:50:08.856807",
     "exception": false,
     "start_time": "2021-12-29T09:50:08.828252",
     "status": "completed"
    },
    "tags": []
   },
   "source": [
    "---\n",
    "\n",
    "\n",
    "\n",
    "\n",
    "*Have questions or comments? Visit the [course discussion forum](https://www.kaggle.com/learn/intermediate-machine-learning/discussion) to chat with other learners.*"
   ]
  }
 ],
 "metadata": {
  "kernelspec": {
   "display_name": "Python 3",
   "language": "python",
   "name": "python3"
  },
  "language_info": {
   "codemirror_mode": {
    "name": "ipython",
    "version": 3
   },
   "file_extension": ".py",
   "mimetype": "text/x-python",
   "name": "python",
   "nbconvert_exporter": "python",
   "pygments_lexer": "ipython3",
   "version": "3.7.12"
  },
  "papermill": {
   "default_parameters": {},
   "duration": 21.487396,
   "end_time": "2021-12-29T09:50:09.595613",
   "environment_variables": {},
   "exception": null,
   "input_path": "__notebook__.ipynb",
   "output_path": "__notebook__.ipynb",
   "parameters": {},
   "start_time": "2021-12-29T09:49:48.108217",
   "version": "2.3.3"
  }
 },
 "nbformat": 4,
 "nbformat_minor": 5
}
